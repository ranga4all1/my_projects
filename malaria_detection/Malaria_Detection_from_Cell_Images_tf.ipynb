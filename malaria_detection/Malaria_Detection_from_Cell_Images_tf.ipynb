{
  "cells": [
    {
      "cell_type": "markdown",
      "metadata": {
        "id": "f6GC-YsOnCXi"
      },
      "source": [
        "# Malaria Detection from Cell Images\n",
        "\n",
        "Dataset link: https://www.kaggle.com/datasets/iarunava/cell-images-for-detecting-malaria\n",
        "\n",
        "Same or similar datasets can be obtained from the official [NIH Website](https://ceb.nlm.nih.gov/repositories/malaria-datasets/)\n",
        "\n",
        "The dataset contains 2 folders\n",
        "\n",
        "1. Parasitized\n",
        "2. Uninfected\n",
        "\n",
        "And a total of `27,558` images."
      ]
    },
    {
      "cell_type": "code",
      "execution_count": 1,
      "metadata": {
        "colab": {
          "base_uri": "https://localhost:8080/"
        },
        "id": "imOddl6JO-MT",
        "outputId": "bd48de6d-68b9-411c-de04-0cc7962984ce"
      },
      "outputs": [
        {
          "name": "stdout",
          "output_type": "stream",
          "text": [
            "Looking in indexes: https://pypi.org/simple, https://us-python.pkg.dev/colab-wheels/public/simple/\n",
            "Collecting opendatasets\n",
            "  Downloading opendatasets-0.1.22-py3-none-any.whl (15 kB)\n",
            "Requirement already satisfied: kaggle in /usr/local/lib/python3.7/dist-packages (from opendatasets) (1.5.12)\n",
            "Requirement already satisfied: click in /usr/local/lib/python3.7/dist-packages (from opendatasets) (7.1.2)\n",
            "Requirement already satisfied: tqdm in /usr/local/lib/python3.7/dist-packages (from opendatasets) (4.64.0)\n",
            "Requirement already satisfied: six>=1.10 in /usr/local/lib/python3.7/dist-packages (from kaggle->opendatasets) (1.15.0)\n",
            "Requirement already satisfied: requests in /usr/local/lib/python3.7/dist-packages (from kaggle->opendatasets) (2.23.0)\n",
            "Requirement already satisfied: python-dateutil in /usr/local/lib/python3.7/dist-packages (from kaggle->opendatasets) (2.8.2)\n",
            "Requirement already satisfied: urllib3 in /usr/local/lib/python3.7/dist-packages (from kaggle->opendatasets) (1.24.3)\n",
            "Requirement already satisfied: certifi in /usr/local/lib/python3.7/dist-packages (from kaggle->opendatasets) (2022.6.15)\n",
            "Requirement already satisfied: python-slugify in /usr/local/lib/python3.7/dist-packages (from kaggle->opendatasets) (6.1.2)\n",
            "Requirement already satisfied: text-unidecode>=1.3 in /usr/local/lib/python3.7/dist-packages (from python-slugify->kaggle->opendatasets) (1.3)\n",
            "Requirement already satisfied: idna<3,>=2.5 in /usr/local/lib/python3.7/dist-packages (from requests->kaggle->opendatasets) (2.10)\n",
            "Requirement already satisfied: chardet<4,>=3.0.2 in /usr/local/lib/python3.7/dist-packages (from requests->kaggle->opendatasets) (3.0.4)\n",
            "Installing collected packages: opendatasets\n",
            "Successfully installed opendatasets-0.1.22\n",
            "Looking in indexes: https://pypi.org/simple, https://us-python.pkg.dev/colab-wheels/public/simple/\n",
            "Collecting split-folders\n",
            "  Downloading split_folders-0.5.1-py3-none-any.whl (8.4 kB)\n",
            "Installing collected packages: split-folders\n",
            "Successfully installed split-folders-0.5.1\n"
          ]
        }
      ],
      "source": [
        "#  install opendatasets and splitfolders, if not installed already\n",
        "!pip install opendatasets\n",
        "!pip install split-folders"
      ]
    },
    {
      "cell_type": "code",
      "execution_count": 35,
      "metadata": {
        "id": "fdyY_vsXsMhG"
      },
      "outputs": [],
      "source": [
        "# import required libraries\n",
        "import numpy as np\n",
        "import pandas as pd\n",
        "import opendatasets as od\n",
        "import splitfolders\n",
        "import itertools\n",
        "import base64\n",
        "import io, os, signal\n",
        "import shutil\n",
        "from shutil import copy\n",
        "from shutil import copytree, rmtree\n",
        "import matplotlib.pyplot as plt\n",
        "% matplotlib inline\n",
        "from PIL import Image\n",
        "import cv2\n",
        "import tensorflow as tf\n",
        "from tensorflow.keras import layers\n",
        "from tensorflow.keras.models import Sequential\n",
        "from tensorflow.keras.optimizers import Adam\n",
        "from tensorflow.keras.preprocessing.image import ImageDataGenerator\n",
        "from google.colab import files\n",
        "from tensorflow.keras.preprocessing import image"
      ]
    },
    {
      "cell_type": "code",
      "execution_count": 3,
      "metadata": {
        "colab": {
          "base_uri": "https://localhost:8080/"
        },
        "id": "lk38JUu4N1iN",
        "outputId": "0e59d161-aea8-45c5-b589-5162d4543c4d"
      },
      "outputs": [
        {
          "name": "stdout",
          "output_type": "stream",
          "text": [
            "Tensorflow version: 2.8.2\n",
            "Keras version: 2.8.0\n",
            "GPU is available\n"
          ]
        }
      ],
      "source": [
        "# Check Tensorflow and Keras version; check if GPU is available\n",
        "print('Tensorflow version:', tf.__version__)\n",
        "print('Keras version:', tf.keras.__version__)\n",
        "print(\"GPU is\", \"available\" if tf.config.list_physical_devices('GPU') else \"NOT AVAILABLE\")"
      ]
    },
    {
      "cell_type": "code",
      "execution_count": 4,
      "metadata": {
        "id": "FLNTQ9AzQscM"
      },
      "outputs": [],
      "source": [
        "# set seed\n",
        "tf.random.set_seed(1)"
      ]
    },
    {
      "cell_type": "code",
      "execution_count": 5,
      "metadata": {
        "colab": {
          "base_uri": "https://localhost:8080/"
        },
        "id": "tn2ObxdqnWVJ",
        "outputId": "90425352-4cde-4e6a-c7f9-f1147e685ecd"
      },
      "outputs": [
        {
          "name": "stdout",
          "output_type": "stream",
          "text": [
            "Downloading cell-images-for-detecting-malaria.zip to ./cell-images-for-detecting-malaria\n"
          ]
        },
        {
          "name": "stderr",
          "output_type": "stream",
          "text": [
            "100%|██████████| 675M/675M [00:13<00:00, 51.2MB/s]\n"
          ]
        },
        {
          "name": "stdout",
          "output_type": "stream",
          "text": [
            "\n"
          ]
        }
      ],
      "source": [
        "# download the dataset\n",
        "od.download(\"https://www.kaggle.com/datasets/iarunava/cell-images-for-detecting-malaria\")"
      ]
    },
    {
      "cell_type": "code",
      "execution_count": 6,
      "metadata": {
        "id": "LCiykiZ9vDm1"
      },
      "outputs": [],
      "source": [
        "# create dataset folder and set folder variables\n",
        "dir = 'dataset'\n",
        "parent_dir = './cell-images-for-detecting-malaria'\n",
        "path = os.path.join(parent_dir, dir)\n",
        "os.mkdir(path)\n",
        "\n",
        "base_dir = './cell-images-for-detecting-malaria/cell_images/cell_images/'\n",
        "dataset_dir = './cell-images-for-detecting-malaria/dataset/'"
      ]
    },
    {
      "cell_type": "code",
      "execution_count": 7,
      "metadata": {
        "colab": {
          "base_uri": "https://localhost:8080/"
        },
        "id": "X0ti2RffOCW1",
        "outputId": "1ec9482b-dcdd-42a6-f0d0-197127f90e32"
      },
      "outputs": [
        {
          "name": "stderr",
          "output_type": "stream",
          "text": [
            "Copying files: 27560 files [00:04, 6864.55 files/s]\n"
          ]
        }
      ],
      "source": [
        "# split data into train, val and test\n",
        "input_folder = base_dir\n",
        "output = dataset_dir\n",
        "splitfolders.ratio(input_folder, output=output, \n",
        "                   seed=42, ratio=(.7, .2, .1), \n",
        "                   group_prefix=None)"
      ]
    },
    {
      "cell_type": "code",
      "execution_count": 8,
      "metadata": {
        "colab": {
          "base_uri": "https://localhost:8080/"
        },
        "id": "rkkLF5l1Q6_7",
        "outputId": "21cfa1b1-e851-454b-ffd1-872cda6a8b3d"
      },
      "outputs": [
        {
          "name": "stdout",
          "output_type": "stream",
          "text": [
            "test  train  val\n"
          ]
        }
      ],
      "source": [
        "# Check the dataset folder\n",
        "!ls ./cell-images-for-detecting-malaria/dataset/"
      ]
    },
    {
      "cell_type": "code",
      "execution_count": 9,
      "metadata": {
        "id": "fkxeYWvWUuNj"
      },
      "outputs": [],
      "source": [
        "# cleanup\n",
        "if os.path.exists('./cell-images-for-detecting-malaria/cell_images'):\n",
        "    shutil.rmtree('./cell-images-for-detecting-malaria/cell_images')"
      ]
    },
    {
      "cell_type": "markdown",
      "metadata": {
        "id": "Qs31eNn_ouqf"
      },
      "source": [
        "## EDA"
      ]
    },
    {
      "cell_type": "code",
      "execution_count": 10,
      "metadata": {
        "colab": {
          "base_uri": "https://localhost:8080/"
        },
        "id": "t8VNEei9bdFV",
        "outputId": "bfa2db3f-bcf9-4bb4-dec1-256bbc9053d2"
      },
      "outputs": [
        {
          "name": "stdout",
          "output_type": "stream",
          "text": [
            "Number of cell image classes in train: 2\n",
            "['Uninfected', 'Parasitized']\n",
            "Uninfected : 9646\n",
            "Parasitized : 9646\n",
            "\n",
            "Number of cell image classes in val: 2\n",
            "['Uninfected', 'Parasitized']\n",
            "Uninfected : 2756\n",
            "Parasitized : 2756\n",
            "\n",
            "Number of cell image classes in test: 2\n",
            "['Uninfected', 'Parasitized']\n",
            "Uninfected : 1378\n",
            "Parasitized : 1378\n",
            "\n",
            "Class names: ['Uninfected', 'Parasitized']\n"
          ]
        }
      ],
      "source": [
        "# Number of images in each class in 'train', 'val' and 'test\n",
        "\n",
        "train_dir = os.path.join(dataset_dir, 'train')\n",
        "val_dir = os.path.join(dataset_dir, 'val')\n",
        "test_dir = os.path.join(dataset_dir, 'test')\n",
        "class_names = os.listdir(train_dir)\n",
        "\n",
        "print('Number of cell image classes in train:', len(os.listdir(train_dir)))\n",
        "print(os.listdir(train_dir))\n",
        "for cls in os.listdir(train_dir):\n",
        "    print(cls, ':', len(os.listdir(train_dir + '/' + cls)))\n",
        "\n",
        "\n",
        "print('\\nNumber of cell image classes in val:', len(os.listdir(val_dir)))\n",
        "print(os.listdir(val_dir))\n",
        "for cls in os.listdir(val_dir):\n",
        "    print(cls, ':', len(os.listdir(val_dir + '/' + cls)))\n",
        "\n",
        "\n",
        "print('\\nNumber of cell image classes in test:', len(os.listdir(test_dir)))\n",
        "print(os.listdir(test_dir))\n",
        "for cls in os.listdir(test_dir):\n",
        "    print(cls, ':', len(os.listdir(test_dir + '/' + cls)))\n",
        "\n",
        "print('\\nClass names:', class_names)"
      ]
    },
    {
      "cell_type": "code",
      "execution_count": 11,
      "metadata": {
        "colab": {
          "base_uri": "https://localhost:8080/"
        },
        "id": "jVxWnbM6i6XQ",
        "outputId": "b6c59535-85dc-4b92-a03f-da38ca39ca9d"
      },
      "outputs": [
        {
          "name": "stdout",
          "output_type": "stream",
          "text": [
            "['C111P72ThinF_IMG_20150930_113049_cell_164.png', 'C129P90ThinF_IMG_20151004_134306_cell_141.png', 'C48P9thinF_IMG_20150721_163810_cell_8.png', 'C68P29N_ThinF_IMG_20150819_133236_cell_164.png', 'C46P7ThinF_IMG_20151130_205828_cell_149.png']\n",
            "['C220ThinF_IMG_20151106_154339_cell_170.png', 'C134P95ThinF_IMG_20151005_122331_cell_19.png', 'C144P105ThinF_IMG_20151015_155004_cell_24.png', 'C215ThinF_IMG_20151106_133643_cell_98.png', 'C219ThinF_IMG_20151106_145927_cell_92.png']\n"
          ]
        }
      ],
      "source": [
        "# let's see what the filenames look like\n",
        "print(os.listdir(train_dir + '/' + 'Parasitized')[:5])\n",
        "print(os.listdir(train_dir + '/' + 'Uninfected')[:5])"
      ]
    },
    {
      "cell_type": "code",
      "execution_count": 12,
      "metadata": {
        "colab": {
          "base_uri": "https://localhost:8080/",
          "height": 377
        },
        "id": "0--nbGS5liWC",
        "outputId": "a288a0aa-3c51-4ca4-8ad2-800a528e716d"
      },
      "outputs": [
        {
          "data": {
            "image/png": "[encoded data removed]",
            "text/plain": [
              "<Figure size 864x432 with 2 Axes>"
            ]
          },
          "metadata": {},
          "output_type": "display_data"
        }
      ],
      "source": [
        "# Visualize one image from each class - 'Parasitized' and 'Uninfected'\n",
        "ppic = './cell-images-for-detecting-malaria/dataset/train/Parasitized/C57P18thinF_IMG_20150729_111518_cell_253.png'\n",
        "upic = './cell-images-for-detecting-malaria/dataset/train/Uninfected/C138P99ThinF_IMG_20151005_173241_cell_54.png'\n",
        "\n",
        "plt.figure(1, figsize=(12, 6))\n",
        "plt.subplot(1, 2, 1)\n",
        "plt.imshow(cv2.imread(ppic))\n",
        "plt.title(\"Parasitized cell\")\n",
        "plt.xticks([]) , plt.yticks([])\n",
        "\n",
        "plt.subplot(1, 2, 2)\n",
        "plt.imshow(cv2.imread(upic))\n",
        "plt.title('Uninfected cell')\n",
        "plt.xticks([]) , plt.yticks([])\n",
        "\n",
        "plt.show()"
      ]
    },
    {
      "cell_type": "markdown",
      "metadata": {
        "id": "lBfuuNAloQrY"
      },
      "source": [
        "## Data preprocessing"
      ]
    },
    {
      "cell_type": "code",
      "execution_count": 13,
      "metadata": {
        "colab": {
          "base_uri": "https://localhost:8080/"
        },
        "id": "hjb_FMG8oTri",
        "outputId": "d2b1c30f-ef3c-4e0f-97c9-64fa0ae401bb"
      },
      "outputs": [
        {
          "name": "stdout",
          "output_type": "stream",
          "text": [
            "Found 19290 images belonging to 2 classes.\n",
            "Found 5512 images belonging to 2 classes.\n",
            "Found 2756 images belonging to 2 classes.\n"
          ]
        }
      ],
      "source": [
        "# Parameters for the loader\n",
        "batch_size = 32\n",
        "img_height = 128\n",
        "img_width = 128\n",
        "seed = 123\n",
        "class_mode = 'binary'\n",
        "color_mode = 'rgb'\n",
        "\n",
        "# All images will be rescaled by 1./255 + image augmentation\n",
        "train_datagen = ImageDataGenerator(\n",
        "      rescale=1.0/255,\n",
        "      rotation_range=20,\n",
        "      width_shift_range=0.2,\n",
        "      height_shift_range=0.2,\n",
        "      shear_range=0.2,\n",
        "      zoom_range=0.2,\n",
        "      horizontal_flip=True,\n",
        "      fill_mode='nearest'\n",
        "    )\n",
        "\n",
        "val_datagen = ImageDataGenerator(rescale=1.0/255)\n",
        "test_datagen = ImageDataGenerator(rescale=1.0/255)\n",
        "\n",
        "# Flow training images in batches using train_datagen generator\n",
        "train_ds = train_datagen.flow_from_directory(\n",
        "        train_dir,  # This is the source directory for training images\n",
        "        target_size=(img_height, img_width),  # All images will be resized\n",
        "        batch_size=batch_size,\n",
        "        shuffle=True,\n",
        "        class_mode=class_mode,\n",
        "        color_mode=color_mode\n",
        "    )\n",
        "\n",
        "# Flow val images in batches using val_datagen generator\n",
        "val_ds = val_datagen.flow_from_directory(\n",
        "        val_dir,  # This is the source directory for training images\n",
        "        target_size=(img_height, img_width),  # All images will be resized\n",
        "        batch_size=batch_size,\n",
        "        shuffle=True,\n",
        "        class_mode=class_mode,\n",
        "        color_mode=color_mode\n",
        "    )\n",
        "\n",
        "# Flow test images in batches using test_datagen generator\n",
        "test_ds = test_datagen.flow_from_directory(\n",
        "        test_dir,  # This is the source directory for training images\n",
        "        target_size=(img_height, img_width),  # All images will be resized\n",
        "        batch_size=batch_size,\n",
        "        shuffle=False,\n",
        "        class_mode=class_mode,\n",
        "        color_mode=color_mode\n",
        "    )"
      ]
    },
    {
      "cell_type": "code",
      "execution_count": 14,
      "metadata": {
        "colab": {
          "base_uri": "https://localhost:8080/"
        },
        "id": "68Nuxzqpj1-2",
        "outputId": "397fa6b5-1a0a-404e-c657-82ff7edbd78a"
      },
      "outputs": [
        {
          "name": "stdout",
          "output_type": "stream",
          "text": [
            "(32, 128, 128, 3)\n",
            "(32,)\n"
          ]
        },
        {
          "data": {
            "text/plain": [
              "array([[[0., 0., 0.],\n",
              "        [0., 0., 0.],\n",
              "        [0., 0., 0.],\n",
              "        ...,\n",
              "        [0., 0., 0.],\n",
              "        [0., 0., 0.],\n",
              "        [0., 0., 0.]],\n",
              "\n",
              "       [[0., 0., 0.],\n",
              "        [0., 0., 0.],\n",
              "        [0., 0., 0.],\n",
              "        ...,\n",
              "        [0., 0., 0.],\n",
              "        [0., 0., 0.],\n",
              "        [0., 0., 0.]],\n",
              "\n",
              "       [[0., 0., 0.],\n",
              "        [0., 0., 0.],\n",
              "        [0., 0., 0.],\n",
              "        ...,\n",
              "        [0., 0., 0.],\n",
              "        [0., 0., 0.],\n",
              "        [0., 0., 0.]],\n",
              "\n",
              "       ...,\n",
              "\n",
              "       [[0., 0., 0.],\n",
              "        [0., 0., 0.],\n",
              "        [0., 0., 0.],\n",
              "        ...,\n",
              "        [0., 0., 0.],\n",
              "        [0., 0., 0.],\n",
              "        [0., 0., 0.]],\n",
              "\n",
              "       [[0., 0., 0.],\n",
              "        [0., 0., 0.],\n",
              "        [0., 0., 0.],\n",
              "        ...,\n",
              "        [0., 0., 0.],\n",
              "        [0., 0., 0.],\n",
              "        [0., 0., 0.]],\n",
              "\n",
              "       [[0., 0., 0.],\n",
              "        [0., 0., 0.],\n",
              "        [0., 0., 0.],\n",
              "        ...,\n",
              "        [0., 0., 0.],\n",
              "        [0., 0., 0.],\n",
              "        [0., 0., 0.]]], dtype=float32)"
            ]
          },
          "execution_count": 14,
          "metadata": {},
          "output_type": "execute_result"
        }
      ],
      "source": [
        "# Let's look at 1 of the the batches\n",
        "train_batch = train_ds[0]\n",
        "images, labels = list(train_batch)\n",
        "print(images.shape)\n",
        "print(labels.shape)\n",
        "\n",
        "first_image = images[0]\n",
        "first_image\n",
        "\n",
        "# val_batch = val_ds[0]\n",
        "# print(val_batch[0].shape)\n",
        "# print(val_batch[1])\n",
        "# test_batch = test_ds[0]\n",
        "# print(test_batch[0].shape)\n",
        "# print(test_batch[1])"
      ]
    },
    {
      "cell_type": "code",
      "execution_count": 15,
      "metadata": {
        "colab": {
          "base_uri": "https://localhost:8080/"
        },
        "id": "d0DijK6jwME9",
        "outputId": "fc06b69e-ab69-4903-f27d-1c70a60b0aec"
      },
      "outputs": [
        {
          "data": {
            "text/plain": [
              "array([[0., 0., 0.],\n",
              "       [0., 0., 0.],\n",
              "       [0., 0., 0.]], dtype=float32)"
            ]
          },
          "execution_count": 15,
          "metadata": {},
          "output_type": "execute_result"
        }
      ],
      "source": [
        "first_image[:3, :3, 0]"
      ]
    },
    {
      "cell_type": "markdown",
      "metadata": {
        "id": "ZzQJZyBkxALI"
      },
      "source": [
        "## Build model"
      ]
    },
    {
      "cell_type": "code",
      "execution_count": 16,
      "metadata": {
        "id": "NKyQbtwlw_Lq"
      },
      "outputs": [],
      "source": [
        "# CNN model with dropout layer\n",
        "model = tf.keras.models.Sequential([\n",
        "    tf.keras.layers.Conv2D(32, (3,3), activation='relu', \n",
        "                           input_shape=(img_height, img_width, 3)),\n",
        "    tf.keras.layers.MaxPooling2D(2, 2),\n",
        "    tf.keras.layers.Conv2D(64, (3,3), activation='relu'),\n",
        "    tf.keras.layers.MaxPooling2D(2,2),\n",
        "    tf.keras.layers.Conv2D(128, (3,3), activation='relu'),\n",
        "    tf.keras.layers.MaxPooling2D(2,2),\n",
        "    tf.keras.layers.Conv2D(256, (3,3), activation='relu'),\n",
        "    tf.keras.layers.MaxPooling2D(2,2),\n",
        "    tf.keras.layers.Dropout(0.3),\n",
        "    tf.keras.layers.Flatten(),\n",
        "    tf.keras.layers.Dense(512, activation='relu'),\n",
        "    tf.keras.layers.Dense(1, activation='sigmoid')\n",
        "])"
      ]
    },
    {
      "cell_type": "code",
      "execution_count": 17,
      "metadata": {
        "id": "PE17cGfuzxBr"
      },
      "outputs": [],
      "source": [
        "# Compile the model\n",
        "model.compile(loss='binary_crossentropy',\n",
        "              optimizer=Adam(learning_rate=1e-4),\n",
        "              metrics=['accuracy'])"
      ]
    },
    {
      "cell_type": "code",
      "execution_count": 18,
      "metadata": {
        "colab": {
          "base_uri": "https://localhost:8080/"
        },
        "id": "kd-ffab8z_cd",
        "outputId": "f7a3d428-b002-4348-dc6e-6c6dca928a40"
      },
      "outputs": [
        {
          "name": "stdout",
          "output_type": "stream",
          "text": [
            "Model: \"sequential\"\n",
            "_________________________________________________________________\n",
            " Layer (type)                Output Shape              Param #   \n",
            "=================================================================\n",
            " conv2d (Conv2D)             (None, 126, 126, 32)      896       \n",
            "                                                                 \n",
            " max_pooling2d (MaxPooling2D  (None, 63, 63, 32)       0         \n",
            " )                                                               \n",
            "                                                                 \n",
            " conv2d_1 (Conv2D)           (None, 61, 61, 64)        18496     \n",
            "                                                                 \n",
            " max_pooling2d_1 (MaxPooling  (None, 30, 30, 64)       0         \n",
            " 2D)                                                             \n",
            "                                                                 \n",
            " conv2d_2 (Conv2D)           (None, 28, 28, 128)       73856     \n",
            "                                                                 \n",
            " max_pooling2d_2 (MaxPooling  (None, 14, 14, 128)      0         \n",
            " 2D)                                                             \n",
            "                                                                 \n",
            " conv2d_3 (Conv2D)           (None, 12, 12, 256)       295168    \n",
            "                                                                 \n",
            " max_pooling2d_3 (MaxPooling  (None, 6, 6, 256)        0         \n",
            " 2D)                                                             \n",
            "                                                                 \n",
            " dropout (Dropout)           (None, 6, 6, 256)         0         \n",
            "                                                                 \n",
            " flatten (Flatten)           (None, 9216)              0         \n",
            "                                                                 \n",
            " dense (Dense)               (None, 512)               4719104   \n",
            "                                                                 \n",
            " dense_1 (Dense)             (None, 1)                 513       \n",
            "                                                                 \n",
            "=================================================================\n",
            "Total params: 5,108,033\n",
            "Trainable params: 5,108,033\n",
            "Non-trainable params: 0\n",
            "_________________________________________________________________\n"
          ]
        }
      ],
      "source": [
        "model.summary()"
      ]
    },
    {
      "cell_type": "markdown",
      "metadata": {
        "id": "0Yj3LpEb0Ivq"
      },
      "source": [
        "## Training"
      ]
    },
    {
      "cell_type": "code",
      "execution_count": 19,
      "metadata": {
        "colab": {
          "base_uri": "https://localhost:8080/"
        },
        "id": "7kazdgSy0Lj4",
        "outputId": "d1ada748-abea-4e11-f268-c987a32f0700"
      },
      "outputs": [
        {
          "name": "stdout",
          "output_type": "stream",
          "text": [
            "Epoch 1/30\n",
            "600/600 - 103s - loss: 0.4518 - accuracy: 0.7799 - val_loss: 0.1972 - val_accuracy: 0.9392 - 103s/epoch - 172ms/step\n",
            "Epoch 2/30\n",
            "600/600 - 95s - loss: 0.2646 - accuracy: 0.9029 - val_loss: 0.1636 - val_accuracy: 0.9557 - 95s/epoch - 158ms/step\n",
            "Epoch 3/30\n",
            "600/600 - 91s - loss: 0.2433 - accuracy: 0.9137 - val_loss: 0.1421 - val_accuracy: 0.9592 - 91s/epoch - 151ms/step\n",
            "Epoch 4/30\n",
            "600/600 - 89s - loss: 0.2338 - accuracy: 0.9174 - val_loss: 0.1647 - val_accuracy: 0.9548 - 89s/epoch - 148ms/step\n",
            "Epoch 5/30\n",
            "600/600 - 90s - loss: 0.2235 - accuracy: 0.9211 - val_loss: 0.1407 - val_accuracy: 0.9586 - 90s/epoch - 149ms/step\n",
            "Epoch 6/30\n",
            "600/600 - 94s - loss: 0.2140 - accuracy: 0.9267 - val_loss: 0.1326 - val_accuracy: 0.9599 - 94s/epoch - 156ms/step\n",
            "Epoch 7/30\n",
            "600/600 - 94s - loss: 0.2065 - accuracy: 0.9272 - val_loss: 0.1251 - val_accuracy: 0.9592 - 94s/epoch - 157ms/step\n",
            "Epoch 8/30\n",
            "600/600 - 89s - loss: 0.1992 - accuracy: 0.9301 - val_loss: 0.1213 - val_accuracy: 0.9618 - 89s/epoch - 149ms/step\n",
            "Epoch 9/30\n",
            "600/600 - 89s - loss: 0.1938 - accuracy: 0.9306 - val_loss: 0.1292 - val_accuracy: 0.9559 - 89s/epoch - 148ms/step\n",
            "Epoch 10/30\n",
            "600/600 - 89s - loss: 0.1905 - accuracy: 0.9317 - val_loss: 0.1184 - val_accuracy: 0.9610 - 89s/epoch - 149ms/step\n",
            "Epoch 11/30\n",
            "600/600 - 89s - loss: 0.1854 - accuracy: 0.9331 - val_loss: 0.1309 - val_accuracy: 0.9557 - 89s/epoch - 148ms/step\n",
            "Epoch 12/30\n",
            "600/600 - 88s - loss: 0.1815 - accuracy: 0.9370 - val_loss: 0.1268 - val_accuracy: 0.9588 - 88s/epoch - 147ms/step\n",
            "Epoch 13/30\n",
            "600/600 - 93s - loss: 0.1829 - accuracy: 0.9346 - val_loss: 0.1192 - val_accuracy: 0.9603 - 93s/epoch - 156ms/step\n",
            "Epoch 14/30\n",
            "600/600 - 89s - loss: 0.1814 - accuracy: 0.9349 - val_loss: 0.1122 - val_accuracy: 0.9603 - 89s/epoch - 148ms/step\n",
            "Epoch 15/30\n",
            "600/600 - 89s - loss: 0.1783 - accuracy: 0.9367 - val_loss: 0.1204 - val_accuracy: 0.9588 - 89s/epoch - 148ms/step\n",
            "Epoch 16/30\n",
            "600/600 - 90s - loss: 0.1790 - accuracy: 0.9346 - val_loss: 0.1155 - val_accuracy: 0.9601 - 90s/epoch - 149ms/step\n",
            "Epoch 17/30\n",
            "600/600 - 90s - loss: 0.1719 - accuracy: 0.9374 - val_loss: 0.1156 - val_accuracy: 0.9612 - 90s/epoch - 150ms/step\n",
            "Epoch 18/30\n",
            "600/600 - 90s - loss: 0.1717 - accuracy: 0.9374 - val_loss: 0.1122 - val_accuracy: 0.9616 - 90s/epoch - 149ms/step\n",
            "Epoch 19/30\n",
            "600/600 - 93s - loss: 0.1721 - accuracy: 0.9379 - val_loss: 0.1145 - val_accuracy: 0.9614 - 93s/epoch - 156ms/step\n",
            "Epoch 19: early stopping\n"
          ]
        }
      ],
      "source": [
        "# callbacks\n",
        "early_stopping = tf.keras.callbacks.EarlyStopping(\n",
        "    monitor=\"val_loss\",\n",
        "    patience=5,\n",
        "    verbose=2\n",
        ")\n",
        "\n",
        "# Fit the model\n",
        "history = model.fit(\n",
        "      train_ds,\n",
        "      steps_per_epoch=600,  # Total train images = batch_size * steps\n",
        "      epochs=30,\n",
        "      validation_data=val_ds,\n",
        "      validation_steps=170,  # Total val images = batch_size * steps\n",
        "      callbacks=[early_stopping],\n",
        "      verbose=2)"
      ]
    },
    {
      "cell_type": "code",
      "execution_count": 20,
      "metadata": {
        "colab": {
          "base_uri": "https://localhost:8080/",
          "height": 391
        },
        "id": "h2ipCvYu0Azs",
        "outputId": "57d4c039-46a0-477a-f44e-b1372458ac10"
      },
      "outputs": [
        {
          "data": {
            "text/plain": [
              "<matplotlib.legend.Legend at 0x7f79fda3e790>"
            ]
          },
          "execution_count": 20,
          "metadata": {},
          "output_type": "execute_result"
        },
        {
          "data": {
            "image/png": "[encoded data removed]",
            "text/plain": [
              "<Figure size 1152x432 with 2 Axes>"
            ]
          },
          "metadata": {
            "needs_background": "light"
          },
          "output_type": "display_data"
        }
      ],
      "source": [
        "# plot loss and accuracy\n",
        "\n",
        "plt.figure(figsize=(16, 6))\n",
        "plt.subplot(1, 2, 1)\n",
        "plt.plot(history.history['loss'], label='train loss')\n",
        "plt.plot(history.history['val_loss'], label='val loss')\n",
        "plt.grid()\n",
        "plt.legend(fontsize=15)\n",
        "\n",
        "plt.subplot(1, 2, 2)\n",
        "plt.plot(history.history['accuracy'], label='train accuracy')\n",
        "plt.plot(history.history['val_accuracy'], label='val accuracy')\n",
        "plt.grid()\n",
        "plt.legend(fontsize=15)"
      ]
    },
    {
      "cell_type": "code",
      "execution_count": 21,
      "metadata": {
        "colab": {
          "base_uri": "https://localhost:8080/"
        },
        "id": "-S8F1b3h1ZlV",
        "outputId": "41dce7e2-5f1d-4725-c0c5-3ea486357837"
      },
      "outputs": [
        {
          "name": "stdout",
          "output_type": "stream",
          "text": [
            "87/87 - 3s - loss: 0.1299 - accuracy: 0.9536 - 3s/epoch - 37ms/step\n"
          ]
        },
        {
          "data": {
            "text/plain": [
              "[0.12988969683647156, 0.9535558819770813]"
            ]
          },
          "execution_count": 21,
          "metadata": {},
          "output_type": "execute_result"
        }
      ],
      "source": [
        "# evaluate on test data\n",
        "model.evaluate(test_ds, verbose=2)"
      ]
    },
    {
      "cell_type": "code",
      "execution_count": 33,
      "metadata": {
        "id": "JVHbCNf0Bt6d"
      },
      "outputs": [],
      "source": [
        "# save the model\n",
        "model.save('./cell-images-for-detecting-malaria/malaria_detection_cnn_tf.h5')"
      ]
    },
    {
      "cell_type": "code",
      "execution_count": 32,
      "metadata": {
        "colab": {
          "base_uri": "https://localhost:8080/"
        },
        "id": "iSIpnciK1jlp",
        "outputId": "8191db1e-5579-4601-876a-1b54c719f4e8"
      },
      "outputs": [
        {
          "name": "stdout",
          "output_type": "stream",
          "text": [
            "[1. 1. 1. 1. 1. 1. 1. 1. 1. 1. 1. 1. 1. 1. 1. 1. 1. 1. 1. 1. 1. 1. 1. 1.\n",
            " 1. 1. 1. 1. 1. 1. 1. 1.]\n",
            "[0 0 0 0]\n"
          ]
        }
      ],
      "source": [
        "# make some predictions\n",
        "predictions = model.predict(test_ds)\n",
        "predictions = tf.nn.softmax(predictions)\n",
        "labels = np.argmax(predictions, axis=1)\n",
        "\n",
        "print(test_ds[60][1])\n",
        "print(labels[:4])"
      ]
    },
    {
      "cell_type": "markdown",
      "metadata": {
        "id": "1aa_xcwNCoha"
      },
      "source": [
        "### Test predictions on cell images from internet"
      ]
    },
    {
      "cell_type": "code",
      "execution_count": 42,
      "metadata": {
        "colab": {
          "base_uri": "https://localhost:8080/",
          "height": 176,
          "resources": {
            "http://localhost:8080/nbextensions/google.colab/files.js": {
              "data": "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",
              "headers": [
                [
                  "content-type",
                  "application/javascript"
                ]
              ],
              "ok": true,
              "status": 200,
              "status_text": ""
            }
          }
        },
        "id": "1ntsNJu7CwX5",
        "outputId": "67bdc90e-0bb8-468e-eca0-daaec33b4368"
      },
      "outputs": [
        {
          "data": {
            "text/html": [
              "\n",
              "     <input type=\"file\" id=\"files-84322ae7-dc77-4a96-9738-3cc904eaad73\" name=\"files[]\" multiple disabled\n",
              "        style=\"border:none\" />\n",
              "     <output id=\"result-84322ae7-dc77-4a96-9738-3cc904eaad73\">\n",
              "      Upload widget is only available when the cell has been executed in the\n",
              "      current browser session. Please rerun this cell to enable.\n",
              "      </output>\n",
              "      <script src=\"/nbextensions/google.colab/files.js\"></script> "
            ],
            "text/plain": [
              "<IPython.core.display.HTML object>"
            ]
          },
          "metadata": {},
          "output_type": "display_data"
        },
        {
          "name": "stdout",
          "output_type": "stream",
          "text": [
            "Saving malaria-unintefcted-1.png to malaria-unintefcted-1 (3).png\n",
            "Saving malaria-intefcted-1.jpeg to malaria-intefcted-1 (4).jpeg\n",
            "[1.]\n",
            "malaria-unintefcted-1.png is Unintefcted\n",
            "[0.]\n",
            "malaria-intefcted-1.jpeg is Parasitized\n"
          ]
        }
      ],
      "source": [
        "# Upload malaria images here and have it classified\n",
        "\n",
        "uploaded = files.upload()\n",
        "\n",
        "for fn in uploaded.keys():\n",
        " \n",
        "  # predicting images\n",
        "  path = '/content/' + fn\n",
        "  img = image.load_img(path, target_size=(128, 128))\n",
        "  x = image.img_to_array(img)\n",
        "  x = np.expand_dims(x, axis=0)\n",
        "\n",
        "  images = np.vstack([x])\n",
        "  classes = model.predict(images, batch_size=10)\n",
        "  print(classes[0])\n",
        "  if classes[0]>0.5:\n",
        "    print(fn + \" is Unintefcted\")\n",
        "  else:\n",
        "    print(fn + \" is Parasitized\")"
      ]
    },
    {
      "cell_type": "markdown",
      "metadata": {
        "id": "gKzE1lj5CVOz"
      },
      "source": [
        "## Next steps:\n",
        "1. Add visualizations for predictions\n",
        "2. Use transfer learning and compare results"
      ]
    }
  ],
  "metadata": {
    "accelerator": "GPU",
    "colab": {
      "collapsed_sections": [],
      "name": "Malaria_Detection_from_Cell_Images_tf.ipynb",
      "provenance": []
    },
    "gpuClass": "standard",
    "kernelspec": {
      "display_name": "Python 3",
      "name": "python3"
    },
    "language_info": {
      "name": "python"
    }
  },
  "nbformat": 4,
  "nbformat_minor": 0
}
