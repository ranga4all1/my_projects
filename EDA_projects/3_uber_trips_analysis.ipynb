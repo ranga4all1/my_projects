{
 "cells": [
  {
   "cell_type": "markdown",
   "id": "68fd9aaf",
   "metadata": {},
   "source": [
    "# Uber Trips Analysis\n",
    "\n",
    "Download dataset from this kaggle [link](https://www.kaggle.com/shivamparate/uberrawdataapr14csv)\n",
    "\n",
    "This is uber trips dataset for the month of April2014 - for New York city.\n",
    "\n",
    "### Steps\n",
    "#### 1. Import necessary libraries\n",
    "#### 2. Read the dataset using Pandas\n",
    "#### 3. Explore the dataset properties\n",
    "#### 4. Visualize the relationship between different variables and draw insights. "
   ]
  },
  {
   "cell_type": "code",
   "execution_count": 1,
   "id": "01d35643",
   "metadata": {},
   "outputs": [],
   "source": [
    "# import necessary libraries\n",
    "\n",
    "import pandas as pd\n",
    "import matplotlib.pyplot as plt\n",
    "%matplotlib inline"
   ]
  },
  {
   "cell_type": "code",
   "execution_count": 2,
   "id": "3aa1f9dc",
   "metadata": {},
   "outputs": [
    {
     "data": {
      "text/html": [
       "<div>\n",
       "<style scoped>\n",
       "    .dataframe tbody tr th:only-of-type {\n",
       "        vertical-align: middle;\n",
       "    }\n",
       "\n",
       "    .dataframe tbody tr th {\n",
       "        vertical-align: top;\n",
       "    }\n",
       "\n",
       "    .dataframe thead th {\n",
       "        text-align: right;\n",
       "    }\n",
       "</style>\n",
       "<table border=\"1\" class=\"dataframe\">\n",
       "  <thead>\n",
       "    <tr style=\"text-align: right;\">\n",
       "      <th></th>\n",
       "      <th>Date/Time</th>\n",
       "      <th>Lat</th>\n",
       "      <th>Lon</th>\n",
       "      <th>Base</th>\n",
       "    </tr>\n",
       "  </thead>\n",
       "  <tbody>\n",
       "    <tr>\n",
       "      <th>0</th>\n",
       "      <td>4/1/2014 0:11:00</td>\n",
       "      <td>40.7690</td>\n",
       "      <td>-73.9549</td>\n",
       "      <td>B02512</td>\n",
       "    </tr>\n",
       "    <tr>\n",
       "      <th>1</th>\n",
       "      <td>4/1/2014 0:17:00</td>\n",
       "      <td>40.7267</td>\n",
       "      <td>-74.0345</td>\n",
       "      <td>B02512</td>\n",
       "    </tr>\n",
       "    <tr>\n",
       "      <th>2</th>\n",
       "      <td>4/1/2014 0:21:00</td>\n",
       "      <td>40.7316</td>\n",
       "      <td>-73.9873</td>\n",
       "      <td>B02512</td>\n",
       "    </tr>\n",
       "    <tr>\n",
       "      <th>3</th>\n",
       "      <td>4/1/2014 0:28:00</td>\n",
       "      <td>40.7588</td>\n",
       "      <td>-73.9776</td>\n",
       "      <td>B02512</td>\n",
       "    </tr>\n",
       "    <tr>\n",
       "      <th>4</th>\n",
       "      <td>4/1/2014 0:33:00</td>\n",
       "      <td>40.7594</td>\n",
       "      <td>-73.9722</td>\n",
       "      <td>B02512</td>\n",
       "    </tr>\n",
       "  </tbody>\n",
       "</table>\n",
       "</div>"
      ],
      "text/plain": [
       "          Date/Time      Lat      Lon    Base\n",
       "0  4/1/2014 0:11:00  40.7690 -73.9549  B02512\n",
       "1  4/1/2014 0:17:00  40.7267 -74.0345  B02512\n",
       "2  4/1/2014 0:21:00  40.7316 -73.9873  B02512\n",
       "3  4/1/2014 0:28:00  40.7588 -73.9776  B02512\n",
       "4  4/1/2014 0:33:00  40.7594 -73.9722  B02512"
      ]
     },
     "execution_count": 2,
     "metadata": {},
     "output_type": "execute_result"
    }
   ],
   "source": [
    "# load the dataset and display first 5 records\n",
    "uber_df = pd.read_csv(\"uber-raw-data-apr14.csv\")\n",
    "uber_df.head()"
   ]
  },
  {
   "cell_type": "code",
   "execution_count": 3,
   "id": "8482d9ca",
   "metadata": {},
   "outputs": [
    {
     "data": {
      "text/html": [
       "<div>\n",
       "<style scoped>\n",
       "    .dataframe tbody tr th:only-of-type {\n",
       "        vertical-align: middle;\n",
       "    }\n",
       "\n",
       "    .dataframe tbody tr th {\n",
       "        vertical-align: top;\n",
       "    }\n",
       "\n",
       "    .dataframe thead th {\n",
       "        text-align: right;\n",
       "    }\n",
       "</style>\n",
       "<table border=\"1\" class=\"dataframe\">\n",
       "  <thead>\n",
       "    <tr style=\"text-align: right;\">\n",
       "      <th></th>\n",
       "      <th>Date/Time</th>\n",
       "      <th>Lat</th>\n",
       "      <th>Lon</th>\n",
       "      <th>Base</th>\n",
       "    </tr>\n",
       "  </thead>\n",
       "  <tbody>\n",
       "    <tr>\n",
       "      <th>564511</th>\n",
       "      <td>4/30/2014 23:22:00</td>\n",
       "      <td>40.7640</td>\n",
       "      <td>-73.9744</td>\n",
       "      <td>B02764</td>\n",
       "    </tr>\n",
       "    <tr>\n",
       "      <th>564512</th>\n",
       "      <td>4/30/2014 23:26:00</td>\n",
       "      <td>40.7629</td>\n",
       "      <td>-73.9672</td>\n",
       "      <td>B02764</td>\n",
       "    </tr>\n",
       "    <tr>\n",
       "      <th>564513</th>\n",
       "      <td>4/30/2014 23:31:00</td>\n",
       "      <td>40.7443</td>\n",
       "      <td>-73.9889</td>\n",
       "      <td>B02764</td>\n",
       "    </tr>\n",
       "    <tr>\n",
       "      <th>564514</th>\n",
       "      <td>4/30/2014 23:32:00</td>\n",
       "      <td>40.6756</td>\n",
       "      <td>-73.9405</td>\n",
       "      <td>B02764</td>\n",
       "    </tr>\n",
       "    <tr>\n",
       "      <th>564515</th>\n",
       "      <td>4/30/2014 23:48:00</td>\n",
       "      <td>40.6880</td>\n",
       "      <td>-73.9608</td>\n",
       "      <td>B02764</td>\n",
       "    </tr>\n",
       "  </tbody>\n",
       "</table>\n",
       "</div>"
      ],
      "text/plain": [
       "                 Date/Time      Lat      Lon    Base\n",
       "564511  4/30/2014 23:22:00  40.7640 -73.9744  B02764\n",
       "564512  4/30/2014 23:26:00  40.7629 -73.9672  B02764\n",
       "564513  4/30/2014 23:31:00  40.7443 -73.9889  B02764\n",
       "564514  4/30/2014 23:32:00  40.6756 -73.9405  B02764\n",
       "564515  4/30/2014 23:48:00  40.6880 -73.9608  B02764"
      ]
     },
     "execution_count": 3,
     "metadata": {},
     "output_type": "execute_result"
    }
   ],
   "source": [
    "# display last 5 records\n",
    "uber_df.tail()"
   ]
  },
  {
   "cell_type": "code",
   "execution_count": 4,
   "id": "2a0c01c7",
   "metadata": {},
   "outputs": [
    {
     "data": {
      "text/plain": [
       "(564516, 4)"
      ]
     },
     "execution_count": 4,
     "metadata": {},
     "output_type": "execute_result"
    }
   ],
   "source": [
    "# find shape of dataset\n",
    "uber_df.shape"
   ]
  },
  {
   "cell_type": "code",
   "execution_count": 5,
   "id": "e107c5b0",
   "metadata": {},
   "outputs": [
    {
     "name": "stdout",
     "output_type": "stream",
     "text": [
      "<class 'pandas.core.frame.DataFrame'>\n",
      "RangeIndex: 564516 entries, 0 to 564515\n",
      "Data columns (total 4 columns):\n",
      " #   Column     Non-Null Count   Dtype  \n",
      "---  ------     --------------   -----  \n",
      " 0   Date/Time  564516 non-null  object \n",
      " 1   Lat        564516 non-null  float64\n",
      " 2   Lon        564516 non-null  float64\n",
      " 3   Base       564516 non-null  object \n",
      "dtypes: float64(2), object(2)\n",
      "memory usage: 17.2+ MB\n"
     ]
    }
   ],
   "source": [
    "# understand dataset properties\n",
    "uber_df.info()"
   ]
  },
  {
   "cell_type": "markdown",
   "id": "d8de0e85",
   "metadata": {},
   "source": [
    "#### Let's break the Date/Time column to \"Day\", \"Hour\", & \"Weekday\"."
   ]
  },
  {
   "cell_type": "code",
   "execution_count": 6,
   "id": "bfc0156e",
   "metadata": {},
   "outputs": [
    {
     "data": {
      "text/html": [
       "<div>\n",
       "<style scoped>\n",
       "    .dataframe tbody tr th:only-of-type {\n",
       "        vertical-align: middle;\n",
       "    }\n",
       "\n",
       "    .dataframe tbody tr th {\n",
       "        vertical-align: top;\n",
       "    }\n",
       "\n",
       "    .dataframe thead th {\n",
       "        text-align: right;\n",
       "    }\n",
       "</style>\n",
       "<table border=\"1\" class=\"dataframe\">\n",
       "  <thead>\n",
       "    <tr style=\"text-align: right;\">\n",
       "      <th></th>\n",
       "      <th>Date/Time</th>\n",
       "      <th>Lat</th>\n",
       "      <th>Lon</th>\n",
       "      <th>Base</th>\n",
       "      <th>Day</th>\n",
       "      <th>Hour</th>\n",
       "      <th>Weekday</th>\n",
       "    </tr>\n",
       "  </thead>\n",
       "  <tbody>\n",
       "    <tr>\n",
       "      <th>0</th>\n",
       "      <td>2014-04-01 00:11:00</td>\n",
       "      <td>40.7690</td>\n",
       "      <td>-73.9549</td>\n",
       "      <td>B02512</td>\n",
       "      <td>1</td>\n",
       "      <td>0</td>\n",
       "      <td>1</td>\n",
       "    </tr>\n",
       "    <tr>\n",
       "      <th>1</th>\n",
       "      <td>2014-04-01 00:17:00</td>\n",
       "      <td>40.7267</td>\n",
       "      <td>-74.0345</td>\n",
       "      <td>B02512</td>\n",
       "      <td>1</td>\n",
       "      <td>0</td>\n",
       "      <td>1</td>\n",
       "    </tr>\n",
       "    <tr>\n",
       "      <th>2</th>\n",
       "      <td>2014-04-01 00:21:00</td>\n",
       "      <td>40.7316</td>\n",
       "      <td>-73.9873</td>\n",
       "      <td>B02512</td>\n",
       "      <td>1</td>\n",
       "      <td>0</td>\n",
       "      <td>1</td>\n",
       "    </tr>\n",
       "    <tr>\n",
       "      <th>3</th>\n",
       "      <td>2014-04-01 00:28:00</td>\n",
       "      <td>40.7588</td>\n",
       "      <td>-73.9776</td>\n",
       "      <td>B02512</td>\n",
       "      <td>1</td>\n",
       "      <td>0</td>\n",
       "      <td>1</td>\n",
       "    </tr>\n",
       "    <tr>\n",
       "      <th>4</th>\n",
       "      <td>2014-04-01 00:33:00</td>\n",
       "      <td>40.7594</td>\n",
       "      <td>-73.9722</td>\n",
       "      <td>B02512</td>\n",
       "      <td>1</td>\n",
       "      <td>0</td>\n",
       "      <td>1</td>\n",
       "    </tr>\n",
       "  </tbody>\n",
       "</table>\n",
       "</div>"
      ],
      "text/plain": [
       "            Date/Time      Lat      Lon    Base  Day  Hour  Weekday\n",
       "0 2014-04-01 00:11:00  40.7690 -73.9549  B02512    1     0        1\n",
       "1 2014-04-01 00:17:00  40.7267 -74.0345  B02512    1     0        1\n",
       "2 2014-04-01 00:21:00  40.7316 -73.9873  B02512    1     0        1\n",
       "3 2014-04-01 00:28:00  40.7588 -73.9776  B02512    1     0        1\n",
       "4 2014-04-01 00:33:00  40.7594 -73.9722  B02512    1     0        1"
      ]
     },
     "execution_count": 6,
     "metadata": {},
     "output_type": "execute_result"
    }
   ],
   "source": [
    "# change \"Date/Time\" columns data type from string to datetime\n",
    "uber_df['Date/Time'] = pd.to_datetime(uber_df['Date/Time'])\n",
    "\n",
    "# break the Date/Time column to \"Day\", \"Hour\", & \"Weekday\"\n",
    "uber_df[\"Day\"] = uber_df[\"Date/Time\"].apply(lambda x: x.day)\n",
    "uber_df[\"Hour\"] = uber_df[\"Date/Time\"].apply(lambda x: x.hour)\n",
    "uber_df[\"Weekday\"] = uber_df[\"Date/Time\"].apply(lambda x: x.weekday())\n",
    "\n",
    "uber_df.head()"
   ]
  },
  {
   "cell_type": "code",
   "execution_count": 7,
   "id": "b8a6271c",
   "metadata": {},
   "outputs": [
    {
     "data": {
      "text/html": [
       "<div>\n",
       "<style scoped>\n",
       "    .dataframe tbody tr th:only-of-type {\n",
       "        vertical-align: middle;\n",
       "    }\n",
       "\n",
       "    .dataframe tbody tr th {\n",
       "        vertical-align: top;\n",
       "    }\n",
       "\n",
       "    .dataframe thead th {\n",
       "        text-align: right;\n",
       "    }\n",
       "</style>\n",
       "<table border=\"1\" class=\"dataframe\">\n",
       "  <thead>\n",
       "    <tr style=\"text-align: right;\">\n",
       "      <th></th>\n",
       "      <th>Date/Time</th>\n",
       "      <th>Lat</th>\n",
       "      <th>Lon</th>\n",
       "      <th>Base</th>\n",
       "      <th>Day</th>\n",
       "      <th>Hour</th>\n",
       "      <th>Weekday</th>\n",
       "    </tr>\n",
       "  </thead>\n",
       "  <tbody>\n",
       "    <tr>\n",
       "      <th>564511</th>\n",
       "      <td>2014-04-30 23:22:00</td>\n",
       "      <td>40.7640</td>\n",
       "      <td>-73.9744</td>\n",
       "      <td>B02764</td>\n",
       "      <td>30</td>\n",
       "      <td>23</td>\n",
       "      <td>2</td>\n",
       "    </tr>\n",
       "    <tr>\n",
       "      <th>564512</th>\n",
       "      <td>2014-04-30 23:26:00</td>\n",
       "      <td>40.7629</td>\n",
       "      <td>-73.9672</td>\n",
       "      <td>B02764</td>\n",
       "      <td>30</td>\n",
       "      <td>23</td>\n",
       "      <td>2</td>\n",
       "    </tr>\n",
       "    <tr>\n",
       "      <th>564513</th>\n",
       "      <td>2014-04-30 23:31:00</td>\n",
       "      <td>40.7443</td>\n",
       "      <td>-73.9889</td>\n",
       "      <td>B02764</td>\n",
       "      <td>30</td>\n",
       "      <td>23</td>\n",
       "      <td>2</td>\n",
       "    </tr>\n",
       "    <tr>\n",
       "      <th>564514</th>\n",
       "      <td>2014-04-30 23:32:00</td>\n",
       "      <td>40.6756</td>\n",
       "      <td>-73.9405</td>\n",
       "      <td>B02764</td>\n",
       "      <td>30</td>\n",
       "      <td>23</td>\n",
       "      <td>2</td>\n",
       "    </tr>\n",
       "    <tr>\n",
       "      <th>564515</th>\n",
       "      <td>2014-04-30 23:48:00</td>\n",
       "      <td>40.6880</td>\n",
       "      <td>-73.9608</td>\n",
       "      <td>B02764</td>\n",
       "      <td>30</td>\n",
       "      <td>23</td>\n",
       "      <td>2</td>\n",
       "    </tr>\n",
       "  </tbody>\n",
       "</table>\n",
       "</div>"
      ],
      "text/plain": [
       "                 Date/Time      Lat      Lon    Base  Day  Hour  Weekday\n",
       "564511 2014-04-30 23:22:00  40.7640 -73.9744  B02764   30    23        2\n",
       "564512 2014-04-30 23:26:00  40.7629 -73.9672  B02764   30    23        2\n",
       "564513 2014-04-30 23:31:00  40.7443 -73.9889  B02764   30    23        2\n",
       "564514 2014-04-30 23:32:00  40.6756 -73.9405  B02764   30    23        2\n",
       "564515 2014-04-30 23:48:00  40.6880 -73.9608  B02764   30    23        2"
      ]
     },
     "execution_count": 7,
     "metadata": {},
     "output_type": "execute_result"
    }
   ],
   "source": [
    "uber_df.tail()"
   ]
  },
  {
   "cell_type": "markdown",
   "id": "9f1bb866",
   "metadata": {},
   "source": [
    "### Now, let's create histograms showing density of rides per day, hours and weekdays"
   ]
  },
  {
   "cell_type": "code",
   "execution_count": 8,
   "id": "2a346d64",
   "metadata": {},
   "outputs": [
    {
     "data": {
      "text/plain": [
       "Text(0, 0.5, 'Density of rides')"
      ]
     },
     "execution_count": 8,
     "metadata": {},
     "output_type": "execute_result"
    },
    {
     "data": {
      "image/png": "[encoded data removed]",
      "text/plain": [
       "<Figure size 864x432 with 1 Axes>"
      ]
     },
     "metadata": {
      "needs_background": "light"
     },
     "output_type": "display_data"
    }
   ],
   "source": [
    "# visualize density of rides per day of the month\n",
    "fig, ax = plt.subplots(figsize = (12,6))\n",
    "plt.hist(uber_df.Day, width=0.5, bins=30)\n",
    "plt.title(\"Density of trips per Day\", fontsize=14)\n",
    "plt.xlabel(\"Day\", fontsize=12)\n",
    "plt.ylabel(\"Density of rides\", fontsize=12)"
   ]
  },
  {
   "cell_type": "markdown",
   "id": "a1c2e762",
   "metadata": {},
   "source": [
    "#### Observations\n",
    "\n",
    "From the above plot, we can notice that:`\n",
    "1. **Highest** number of rides are during working days (`Monday to Friday`)\n",
    "2. **Least** number of rides are during `weekends`"
   ]
  },
  {
   "cell_type": "code",
   "execution_count": 9,
   "id": "ccad90a3",
   "metadata": {},
   "outputs": [
    {
     "data": {
      "text/plain": [
       "Text(0, 0.5, 'Density of rides')"
      ]
     },
     "execution_count": 9,
     "metadata": {},
     "output_type": "execute_result"
    },
    {
     "data": {
      "image/png": "[encoded data removed]",
      "text/plain": [
       "<Figure size 864x432 with 1 Axes>"
      ]
     },
     "metadata": {
      "needs_background": "light"
     },
     "output_type": "display_data"
    }
   ],
   "source": [
    "# Visualize the density of rides per weekday\n",
    "fig, ax = plt.subplots(figsize= (12,6))\n",
    "plt.hist(uber_df[\"Weekday\"], width=0.5, range=(0, 6.5), bins=7, color=\"green\")\n",
    "plt.title(\"Density of trips per Weekday\", fontsize=14)\n",
    "plt.xlabel(\"Weekday\", fontsize=12)\n",
    "plt.ylabel(\"Density of rides\", fontsize=12)"
   ]
  },
  {
   "cell_type": "markdown",
   "id": "97619362",
   "metadata": {},
   "source": [
    "### Observations\n",
    "\n",
    "From the above plot we can notice that:\n",
    "1. For this month, **busiest** day in the week for Uber is `Tuesday`\n",
    "2. and `Saturday` is the day with **least** number of rides"
   ]
  },
  {
   "cell_type": "code",
   "execution_count": 10,
   "id": "c696b1cb",
   "metadata": {},
   "outputs": [
    {
     "data": {
      "text/plain": [
       "Text(0, 0.5, 'Density of rides')"
      ]
     },
     "execution_count": 10,
     "metadata": {},
     "output_type": "execute_result"
    },
    {
     "data": {
      "image/png": "[encoded data removed]",
      "text/plain": [
       "<Figure size 864x432 with 1 Axes>"
      ]
     },
     "metadata": {
      "needs_background": "light"
     },
     "output_type": "display_data"
    }
   ],
   "source": [
    "# Visualize the density of rides per Hour\n",
    "fig, ax = plt.subplots(figsize=(12,6))\n",
    "plt.hist(uber_df.Hour, width=0.5, bins=24, color=\"orange\")\n",
    "plt.title(\"Density of trips per Hour\", fontsize=14)\n",
    "plt.xlabel(\"Hour\", fontsize=12)\n",
    "plt.ylabel(\"Density of rides\", fontsize=12)"
   ]
  },
  {
   "cell_type": "markdown",
   "id": "7325a888",
   "metadata": {},
   "source": [
    "#### Observations\n",
    "\n",
    "From the above plot, we can notice that:`\n",
    "1. During `nightime` from `1 AM to 4 AM`, number of rides `decrease` gradually\n",
    "2. During `daytime` from `5 AM onwards`, number of rides starts `increasing` till it reaches `peak` at `6 PM`"
   ]
  },
  {
   "cell_type": "code",
   "execution_count": 11,
   "id": "baf6a4c6",
   "metadata": {},
   "outputs": [
    {
     "data": {
      "text/plain": [
       "Text(0, 0.5, 'Lattitude')"
      ]
     },
     "execution_count": 11,
     "metadata": {},
     "output_type": "execute_result"
    },
    {
     "data": {
      "image/png": "[encoded data removed]",
      "text/plain": [
       "<Figure size 864x432 with 1 Axes>"
      ]
     },
     "metadata": {
      "needs_background": "light"
     },
     "output_type": "display_data"
    }
   ],
   "source": [
    "# Visualize the density of rides per location\n",
    "fig, ax = plt.subplots(figsize=(12,6))\n",
    "x = uber_df.Lon\n",
    "y = uber_df.Lat\n",
    "plt.scatter(x, y, color=\"purple\")\n",
    "plt.title(\"Density of rides per location\", fontsize=14)\n",
    "plt.xlabel(\"Longitude\", fontsize=12)\n",
    "plt.ylabel(\"Lattitude\", fontsize=12)"
   ]
  },
  {
   "cell_type": "markdown",
   "id": "941946b0",
   "metadata": {},
   "source": [
    "#### Observations\n",
    "\n",
    "From the above plot, we can notice that:`\n",
    "1. The region with `highest` density of rides is near `Manhattan`\n",
    "2. while the region with `lowest` density is near `New Jersey`"
   ]
  }
 ],
 "metadata": {
  "kernelspec": {
   "display_name": "Python 3 (ipykernel)",
   "language": "python",
   "name": "python3"
  },
  "language_info": {
   "codemirror_mode": {
    "name": "ipython",
    "version": 3
   },
   "file_extension": ".py",
   "mimetype": "text/x-python",
   "name": "python",
   "nbconvert_exporter": "python",
   "pygments_lexer": "ipython3",
   "version": "3.9.7"
  }
 },
 "nbformat": 4,
 "nbformat_minor": 5
}
