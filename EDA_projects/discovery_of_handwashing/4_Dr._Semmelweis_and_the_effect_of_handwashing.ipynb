{
 "cells": [
  {
   "cell_type": "markdown",
   "id": "b90023d1",
   "metadata": {},
   "source": [
    "# The History of Handwashing in Medical Field and its Data Analysis\n",
    "\n",
    "The practice of hand-washing is an ancient one. The act of washing one's hands before and after meals was observed as a religious observance by many communities. In addition to this, nurses have been seen washing their hands before administering care to patients for centuries. However, it wasn't until the late 1800's that physicians began to recognize the importance of hand-washing in preventing disease transmission.\n",
    "\n",
    "In 1847, Dr. Ignaz Semmelweis made a connection between contaminated medical instruments and maternal mortality rates at his hospital. He observed that doctors who went straight from performing autopsies to delivering babies without washing their hands were much more likely to spread fatal infections than doctors who washed their hands in between these tasks.\n",
    "\n",
    "The data analysis of handwashing in the medical field shows that it can reduce death rates, even though it is not practiced by all doctors and nurses.\n",
    "\n",
    "### Steps\n",
    "1. Import necessary libraries\n",
    "2. Read the yearly deaths dataset\n",
    "3. Explore the dataset\n",
    "4. Read and explore the monthly deaths dataset\n",
    "5. Investigate the number of deaths from 1841 to 1846\n",
    "\n",
    "### Part I - Yearly data"
   ]
  },
  {
   "cell_type": "code",
   "execution_count": 1,
   "id": "6674d6b8",
   "metadata": {},
   "outputs": [],
   "source": [
    "# import libraries\n",
    "import pandas as pd\n",
    "import numpy as np\n",
    "import matplotlib.pyplot as plt\n",
    "%matplotlib inline\n",
    "import seaborn as sns\n",
    "sns.set()"
   ]
  },
  {
   "cell_type": "code",
   "execution_count": 2,
   "id": "7a12e0ef",
   "metadata": {},
   "outputs": [
    {
     "data": {
      "text/html": [
       "<div>\n",
       "<style scoped>\n",
       "    .dataframe tbody tr th:only-of-type {\n",
       "        vertical-align: middle;\n",
       "    }\n",
       "\n",
       "    .dataframe tbody tr th {\n",
       "        vertical-align: top;\n",
       "    }\n",
       "\n",
       "    .dataframe thead th {\n",
       "        text-align: right;\n",
       "    }\n",
       "</style>\n",
       "<table border=\"1\" class=\"dataframe\">\n",
       "  <thead>\n",
       "    <tr style=\"text-align: right;\">\n",
       "      <th></th>\n",
       "      <th>year</th>\n",
       "      <th>births</th>\n",
       "      <th>deaths</th>\n",
       "      <th>clinic</th>\n",
       "    </tr>\n",
       "  </thead>\n",
       "  <tbody>\n",
       "    <tr>\n",
       "      <th>0</th>\n",
       "      <td>1841</td>\n",
       "      <td>3036</td>\n",
       "      <td>237</td>\n",
       "      <td>clinic 1</td>\n",
       "    </tr>\n",
       "    <tr>\n",
       "      <th>1</th>\n",
       "      <td>1842</td>\n",
       "      <td>3287</td>\n",
       "      <td>518</td>\n",
       "      <td>clinic 1</td>\n",
       "    </tr>\n",
       "    <tr>\n",
       "      <th>2</th>\n",
       "      <td>1843</td>\n",
       "      <td>3060</td>\n",
       "      <td>274</td>\n",
       "      <td>clinic 1</td>\n",
       "    </tr>\n",
       "    <tr>\n",
       "      <th>3</th>\n",
       "      <td>1844</td>\n",
       "      <td>3157</td>\n",
       "      <td>260</td>\n",
       "      <td>clinic 1</td>\n",
       "    </tr>\n",
       "    <tr>\n",
       "      <th>4</th>\n",
       "      <td>1845</td>\n",
       "      <td>3492</td>\n",
       "      <td>241</td>\n",
       "      <td>clinic 1</td>\n",
       "    </tr>\n",
       "    <tr>\n",
       "      <th>5</th>\n",
       "      <td>1846</td>\n",
       "      <td>4010</td>\n",
       "      <td>459</td>\n",
       "      <td>clinic 1</td>\n",
       "    </tr>\n",
       "    <tr>\n",
       "      <th>6</th>\n",
       "      <td>1841</td>\n",
       "      <td>2442</td>\n",
       "      <td>86</td>\n",
       "      <td>clinic 2</td>\n",
       "    </tr>\n",
       "    <tr>\n",
       "      <th>7</th>\n",
       "      <td>1842</td>\n",
       "      <td>2659</td>\n",
       "      <td>202</td>\n",
       "      <td>clinic 2</td>\n",
       "    </tr>\n",
       "    <tr>\n",
       "      <th>8</th>\n",
       "      <td>1843</td>\n",
       "      <td>2739</td>\n",
       "      <td>164</td>\n",
       "      <td>clinic 2</td>\n",
       "    </tr>\n",
       "    <tr>\n",
       "      <th>9</th>\n",
       "      <td>1844</td>\n",
       "      <td>2956</td>\n",
       "      <td>68</td>\n",
       "      <td>clinic 2</td>\n",
       "    </tr>\n",
       "    <tr>\n",
       "      <th>10</th>\n",
       "      <td>1845</td>\n",
       "      <td>3241</td>\n",
       "      <td>66</td>\n",
       "      <td>clinic 2</td>\n",
       "    </tr>\n",
       "    <tr>\n",
       "      <th>11</th>\n",
       "      <td>1846</td>\n",
       "      <td>3754</td>\n",
       "      <td>105</td>\n",
       "      <td>clinic 2</td>\n",
       "    </tr>\n",
       "  </tbody>\n",
       "</table>\n",
       "</div>"
      ],
      "text/plain": [
       "    year  births  deaths    clinic\n",
       "0   1841    3036     237  clinic 1\n",
       "1   1842    3287     518  clinic 1\n",
       "2   1843    3060     274  clinic 1\n",
       "3   1844    3157     260  clinic 1\n",
       "4   1845    3492     241  clinic 1\n",
       "5   1846    4010     459  clinic 1\n",
       "6   1841    2442      86  clinic 2\n",
       "7   1842    2659     202  clinic 2\n",
       "8   1843    2739     164  clinic 2\n",
       "9   1844    2956      68  clinic 2\n",
       "10  1845    3241      66  clinic 2\n",
       "11  1846    3754     105  clinic 2"
      ]
     },
     "execution_count": 2,
     "metadata": {},
     "output_type": "execute_result"
    }
   ],
   "source": [
    "# read yearly dataset\n",
    "yearly_df = pd.read_csv(\"data/yearly_deaths_by_clinic.csv\")\n",
    "\n",
    "yearly_df"
   ]
  },
  {
   "cell_type": "code",
   "execution_count": 3,
   "id": "94280b63",
   "metadata": {},
   "outputs": [
    {
     "data": {
      "text/plain": [
       "(12, 4)"
      ]
     },
     "execution_count": 3,
     "metadata": {},
     "output_type": "execute_result"
    }
   ],
   "source": [
    "# shape of dataset\n",
    "yearly_df.shape"
   ]
  },
  {
   "cell_type": "code",
   "execution_count": 4,
   "id": "f7e26c05",
   "metadata": {},
   "outputs": [
    {
     "name": "stdout",
     "output_type": "stream",
     "text": [
      "<class 'pandas.core.frame.DataFrame'>\n",
      "RangeIndex: 12 entries, 0 to 11\n",
      "Data columns (total 4 columns):\n",
      " #   Column  Non-Null Count  Dtype \n",
      "---  ------  --------------  ----- \n",
      " 0   year    12 non-null     int64 \n",
      " 1   births  12 non-null     int64 \n",
      " 2   deaths  12 non-null     int64 \n",
      " 3   clinic  12 non-null     object\n",
      "dtypes: int64(3), object(1)\n",
      "memory usage: 512.0+ bytes\n"
     ]
    }
   ],
   "source": [
    "yearly_df.info()"
   ]
  },
  {
   "cell_type": "code",
   "execution_count": 5,
   "id": "96a94ecd",
   "metadata": {},
   "outputs": [
    {
     "data": {
      "text/plain": [
       "clinic\n",
       "clinic 1    20042\n",
       "clinic 2    17791\n",
       "Name: births, dtype: int64"
      ]
     },
     "execution_count": 5,
     "metadata": {},
     "output_type": "execute_result"
    }
   ],
   "source": [
    "# groupby per clinic births\n",
    "yearly_df.groupby(\"clinic\")['births'].sum()"
   ]
  },
  {
   "cell_type": "code",
   "execution_count": 6,
   "id": "3d8610f6",
   "metadata": {},
   "outputs": [
    {
     "data": {
      "text/plain": [
       "clinic\n",
       "clinic 1    1989\n",
       "clinic 2     691\n",
       "Name: deaths, dtype: int64"
      ]
     },
     "execution_count": 6,
     "metadata": {},
     "output_type": "execute_result"
    }
   ],
   "source": [
    "# groupby per clinic deaths\n",
    "yearly_df.groupby(\"clinic\")['deaths'].sum()"
   ]
  },
  {
   "cell_type": "markdown",
   "id": "93993ad7",
   "metadata": {},
   "source": [
    "#### Observations\n",
    "1. Above results show the number of `births` and `deaths` in two clinics from the year `1841 till 1846`. The number of deaths in `clinic 1` is **higher** than that of `clinic 2`.   "
   ]
  },
  {
   "cell_type": "code",
   "execution_count": 7,
   "id": "7bb117d9",
   "metadata": {
    "scrolled": true
   },
   "outputs": [
    {
     "data": {
      "text/html": [
       "<div>\n",
       "<style scoped>\n",
       "    .dataframe tbody tr th:only-of-type {\n",
       "        vertical-align: middle;\n",
       "    }\n",
       "\n",
       "    .dataframe tbody tr th {\n",
       "        vertical-align: top;\n",
       "    }\n",
       "\n",
       "    .dataframe thead th {\n",
       "        text-align: right;\n",
       "    }\n",
       "</style>\n",
       "<table border=\"1\" class=\"dataframe\">\n",
       "  <thead>\n",
       "    <tr style=\"text-align: right;\">\n",
       "      <th></th>\n",
       "      <th>year</th>\n",
       "      <th>births</th>\n",
       "      <th>deaths</th>\n",
       "      <th>clinic</th>\n",
       "      <th>proportion of deaths</th>\n",
       "    </tr>\n",
       "  </thead>\n",
       "  <tbody>\n",
       "    <tr>\n",
       "      <th>0</th>\n",
       "      <td>1841</td>\n",
       "      <td>3036</td>\n",
       "      <td>237</td>\n",
       "      <td>clinic 1</td>\n",
       "      <td>0.078063</td>\n",
       "    </tr>\n",
       "    <tr>\n",
       "      <th>1</th>\n",
       "      <td>1842</td>\n",
       "      <td>3287</td>\n",
       "      <td>518</td>\n",
       "      <td>clinic 1</td>\n",
       "      <td>0.157591</td>\n",
       "    </tr>\n",
       "    <tr>\n",
       "      <th>2</th>\n",
       "      <td>1843</td>\n",
       "      <td>3060</td>\n",
       "      <td>274</td>\n",
       "      <td>clinic 1</td>\n",
       "      <td>0.089542</td>\n",
       "    </tr>\n",
       "    <tr>\n",
       "      <th>3</th>\n",
       "      <td>1844</td>\n",
       "      <td>3157</td>\n",
       "      <td>260</td>\n",
       "      <td>clinic 1</td>\n",
       "      <td>0.082357</td>\n",
       "    </tr>\n",
       "    <tr>\n",
       "      <th>4</th>\n",
       "      <td>1845</td>\n",
       "      <td>3492</td>\n",
       "      <td>241</td>\n",
       "      <td>clinic 1</td>\n",
       "      <td>0.069015</td>\n",
       "    </tr>\n",
       "    <tr>\n",
       "      <th>5</th>\n",
       "      <td>1846</td>\n",
       "      <td>4010</td>\n",
       "      <td>459</td>\n",
       "      <td>clinic 1</td>\n",
       "      <td>0.114464</td>\n",
       "    </tr>\n",
       "    <tr>\n",
       "      <th>6</th>\n",
       "      <td>1841</td>\n",
       "      <td>2442</td>\n",
       "      <td>86</td>\n",
       "      <td>clinic 2</td>\n",
       "      <td>0.035217</td>\n",
       "    </tr>\n",
       "    <tr>\n",
       "      <th>7</th>\n",
       "      <td>1842</td>\n",
       "      <td>2659</td>\n",
       "      <td>202</td>\n",
       "      <td>clinic 2</td>\n",
       "      <td>0.075968</td>\n",
       "    </tr>\n",
       "    <tr>\n",
       "      <th>8</th>\n",
       "      <td>1843</td>\n",
       "      <td>2739</td>\n",
       "      <td>164</td>\n",
       "      <td>clinic 2</td>\n",
       "      <td>0.059876</td>\n",
       "    </tr>\n",
       "    <tr>\n",
       "      <th>9</th>\n",
       "      <td>1844</td>\n",
       "      <td>2956</td>\n",
       "      <td>68</td>\n",
       "      <td>clinic 2</td>\n",
       "      <td>0.023004</td>\n",
       "    </tr>\n",
       "    <tr>\n",
       "      <th>10</th>\n",
       "      <td>1845</td>\n",
       "      <td>3241</td>\n",
       "      <td>66</td>\n",
       "      <td>clinic 2</td>\n",
       "      <td>0.020364</td>\n",
       "    </tr>\n",
       "    <tr>\n",
       "      <th>11</th>\n",
       "      <td>1846</td>\n",
       "      <td>3754</td>\n",
       "      <td>105</td>\n",
       "      <td>clinic 2</td>\n",
       "      <td>0.027970</td>\n",
       "    </tr>\n",
       "  </tbody>\n",
       "</table>\n",
       "</div>"
      ],
      "text/plain": [
       "    year  births  deaths    clinic  proportion of deaths\n",
       "0   1841    3036     237  clinic 1              0.078063\n",
       "1   1842    3287     518  clinic 1              0.157591\n",
       "2   1843    3060     274  clinic 1              0.089542\n",
       "3   1844    3157     260  clinic 1              0.082357\n",
       "4   1845    3492     241  clinic 1              0.069015\n",
       "5   1846    4010     459  clinic 1              0.114464\n",
       "6   1841    2442      86  clinic 2              0.035217\n",
       "7   1842    2659     202  clinic 2              0.075968\n",
       "8   1843    2739     164  clinic 2              0.059876\n",
       "9   1844    2956      68  clinic 2              0.023004\n",
       "10  1845    3241      66  clinic 2              0.020364\n",
       "11  1846    3754     105  clinic 2              0.027970"
      ]
     },
     "execution_count": 7,
     "metadata": {},
     "output_type": "execute_result"
    }
   ],
   "source": [
    "# calculate proportion of deaths\n",
    "yearly_df[\"proportion of deaths\"] = yearly_df[\"deaths\"] / yearly_df[\"births\"]\n",
    "\n",
    "yearly_df"
   ]
  },
  {
   "cell_type": "code",
   "execution_count": 8,
   "id": "6f78e58e",
   "metadata": {},
   "outputs": [],
   "source": [
    "# separate dataset into 2 parts - one per clinic\n",
    "clinic_1 = yearly_df[yearly_df[\"clinic\"] == \"clinic 1\"]\n",
    "clinic_2 = yearly_df[yearly_df[\"clinic\"] == \"clinic 2\"]"
   ]
  },
  {
   "cell_type": "code",
   "execution_count": 9,
   "id": "d3915f62",
   "metadata": {},
   "outputs": [
    {
     "data": {
      "text/html": [
       "<div>\n",
       "<style scoped>\n",
       "    .dataframe tbody tr th:only-of-type {\n",
       "        vertical-align: middle;\n",
       "    }\n",
       "\n",
       "    .dataframe tbody tr th {\n",
       "        vertical-align: top;\n",
       "    }\n",
       "\n",
       "    .dataframe thead th {\n",
       "        text-align: right;\n",
       "    }\n",
       "</style>\n",
       "<table border=\"1\" class=\"dataframe\">\n",
       "  <thead>\n",
       "    <tr style=\"text-align: right;\">\n",
       "      <th></th>\n",
       "      <th>year</th>\n",
       "      <th>births</th>\n",
       "      <th>deaths</th>\n",
       "      <th>clinic</th>\n",
       "      <th>proportion of deaths</th>\n",
       "    </tr>\n",
       "  </thead>\n",
       "  <tbody>\n",
       "    <tr>\n",
       "      <th>0</th>\n",
       "      <td>1841</td>\n",
       "      <td>3036</td>\n",
       "      <td>237</td>\n",
       "      <td>clinic 1</td>\n",
       "      <td>0.078063</td>\n",
       "    </tr>\n",
       "    <tr>\n",
       "      <th>1</th>\n",
       "      <td>1842</td>\n",
       "      <td>3287</td>\n",
       "      <td>518</td>\n",
       "      <td>clinic 1</td>\n",
       "      <td>0.157591</td>\n",
       "    </tr>\n",
       "    <tr>\n",
       "      <th>2</th>\n",
       "      <td>1843</td>\n",
       "      <td>3060</td>\n",
       "      <td>274</td>\n",
       "      <td>clinic 1</td>\n",
       "      <td>0.089542</td>\n",
       "    </tr>\n",
       "    <tr>\n",
       "      <th>3</th>\n",
       "      <td>1844</td>\n",
       "      <td>3157</td>\n",
       "      <td>260</td>\n",
       "      <td>clinic 1</td>\n",
       "      <td>0.082357</td>\n",
       "    </tr>\n",
       "    <tr>\n",
       "      <th>4</th>\n",
       "      <td>1845</td>\n",
       "      <td>3492</td>\n",
       "      <td>241</td>\n",
       "      <td>clinic 1</td>\n",
       "      <td>0.069015</td>\n",
       "    </tr>\n",
       "    <tr>\n",
       "      <th>5</th>\n",
       "      <td>1846</td>\n",
       "      <td>4010</td>\n",
       "      <td>459</td>\n",
       "      <td>clinic 1</td>\n",
       "      <td>0.114464</td>\n",
       "    </tr>\n",
       "  </tbody>\n",
       "</table>\n",
       "</div>"
      ],
      "text/plain": [
       "   year  births  deaths    clinic  proportion of deaths\n",
       "0  1841    3036     237  clinic 1              0.078063\n",
       "1  1842    3287     518  clinic 1              0.157591\n",
       "2  1843    3060     274  clinic 1              0.089542\n",
       "3  1844    3157     260  clinic 1              0.082357\n",
       "4  1845    3492     241  clinic 1              0.069015\n",
       "5  1846    4010     459  clinic 1              0.114464"
      ]
     },
     "execution_count": 9,
     "metadata": {},
     "output_type": "execute_result"
    }
   ],
   "source": [
    "clinic_1"
   ]
  },
  {
   "cell_type": "code",
   "execution_count": 10,
   "id": "05315404",
   "metadata": {},
   "outputs": [
    {
     "data": {
      "text/html": [
       "<div>\n",
       "<style scoped>\n",
       "    .dataframe tbody tr th:only-of-type {\n",
       "        vertical-align: middle;\n",
       "    }\n",
       "\n",
       "    .dataframe tbody tr th {\n",
       "        vertical-align: top;\n",
       "    }\n",
       "\n",
       "    .dataframe thead th {\n",
       "        text-align: right;\n",
       "    }\n",
       "</style>\n",
       "<table border=\"1\" class=\"dataframe\">\n",
       "  <thead>\n",
       "    <tr style=\"text-align: right;\">\n",
       "      <th></th>\n",
       "      <th>year</th>\n",
       "      <th>births</th>\n",
       "      <th>deaths</th>\n",
       "      <th>clinic</th>\n",
       "      <th>proportion of deaths</th>\n",
       "    </tr>\n",
       "  </thead>\n",
       "  <tbody>\n",
       "    <tr>\n",
       "      <th>6</th>\n",
       "      <td>1841</td>\n",
       "      <td>2442</td>\n",
       "      <td>86</td>\n",
       "      <td>clinic 2</td>\n",
       "      <td>0.035217</td>\n",
       "    </tr>\n",
       "    <tr>\n",
       "      <th>7</th>\n",
       "      <td>1842</td>\n",
       "      <td>2659</td>\n",
       "      <td>202</td>\n",
       "      <td>clinic 2</td>\n",
       "      <td>0.075968</td>\n",
       "    </tr>\n",
       "    <tr>\n",
       "      <th>8</th>\n",
       "      <td>1843</td>\n",
       "      <td>2739</td>\n",
       "      <td>164</td>\n",
       "      <td>clinic 2</td>\n",
       "      <td>0.059876</td>\n",
       "    </tr>\n",
       "    <tr>\n",
       "      <th>9</th>\n",
       "      <td>1844</td>\n",
       "      <td>2956</td>\n",
       "      <td>68</td>\n",
       "      <td>clinic 2</td>\n",
       "      <td>0.023004</td>\n",
       "    </tr>\n",
       "    <tr>\n",
       "      <th>10</th>\n",
       "      <td>1845</td>\n",
       "      <td>3241</td>\n",
       "      <td>66</td>\n",
       "      <td>clinic 2</td>\n",
       "      <td>0.020364</td>\n",
       "    </tr>\n",
       "    <tr>\n",
       "      <th>11</th>\n",
       "      <td>1846</td>\n",
       "      <td>3754</td>\n",
       "      <td>105</td>\n",
       "      <td>clinic 2</td>\n",
       "      <td>0.027970</td>\n",
       "    </tr>\n",
       "  </tbody>\n",
       "</table>\n",
       "</div>"
      ],
      "text/plain": [
       "    year  births  deaths    clinic  proportion of deaths\n",
       "6   1841    2442      86  clinic 2              0.035217\n",
       "7   1842    2659     202  clinic 2              0.075968\n",
       "8   1843    2739     164  clinic 2              0.059876\n",
       "9   1844    2956      68  clinic 2              0.023004\n",
       "10  1845    3241      66  clinic 2              0.020364\n",
       "11  1846    3754     105  clinic 2              0.027970"
      ]
     },
     "execution_count": 10,
     "metadata": {},
     "output_type": "execute_result"
    }
   ],
   "source": [
    "clinic_2"
   ]
  },
  {
   "cell_type": "code",
   "execution_count": 11,
   "id": "097a8d55",
   "metadata": {},
   "outputs": [
    {
     "data": {
      "text/plain": [
       "Text(0, 0.5, 'number of deaths')"
      ]
     },
     "execution_count": 11,
     "metadata": {},
     "output_type": "execute_result"
    },
    {
     "data": {
      "image/png": "[encoded data removed]",
      "text/plain": [
       "<Figure size 720x288 with 1 Axes>"
      ]
     },
     "metadata": {},
     "output_type": "display_data"
    }
   ],
   "source": [
    "# Plot number of deaths every year in clinic 1\n",
    "fig, ax = plt.subplots(figsize=(10,4))\n",
    "plt.bar(clinic_1.year, clinic_1.deaths, width=0.6, color=\"red\")\n",
    "plt.title(\"Clinic 1: Number of deaths per year\", fontsize=14)\n",
    "plt.xlabel(\"Year\", fontsize=12)\n",
    "plt.ylabel(\"number of deaths\", fontsize=12)"
   ]
  },
  {
   "cell_type": "code",
   "execution_count": 12,
   "id": "ded0a10e",
   "metadata": {},
   "outputs": [
    {
     "data": {
      "text/plain": [
       "Text(0, 0.5, 'number of deaths')"
      ]
     },
     "execution_count": 12,
     "metadata": {},
     "output_type": "execute_result"
    },
    {
     "data": {
      "image/png": "[encoded data removed]",
      "text/plain": [
       "<Figure size 720x288 with 1 Axes>"
      ]
     },
     "metadata": {},
     "output_type": "display_data"
    }
   ],
   "source": [
    "# Plot number of deaths every year in clinic 2\n",
    "fig, ax = plt.subplots(figsize=(10,4))\n",
    "plt.bar(clinic_2.year, clinic_2.deaths, width=0.6, color=\"green\")\n",
    "plt.title(\"Clinic 2: Number of deaths per year\", fontsize=14)\n",
    "plt.xlabel(\"Year\", fontsize=12)\n",
    "plt.ylabel(\"number of deaths\", fontsize=12)"
   ]
  },
  {
   "cell_type": "code",
   "execution_count": 13,
   "id": "a94e1800",
   "metadata": {},
   "outputs": [
    {
     "data": {
      "text/plain": [
       "<matplotlib.legend.Legend at 0x7fc751c71040>"
      ]
     },
     "execution_count": 13,
     "metadata": {},
     "output_type": "execute_result"
    },
    {
     "data": {
      "image/png": "[encoded data removed]",
      "text/plain": [
       "<Figure size 720x288 with 1 Axes>"
      ]
     },
     "metadata": {},
     "output_type": "display_data"
    }
   ],
   "source": [
    "# combine these 2 plots to make it easier to compare\n",
    "width = 0.6\n",
    "fig, ax = plt.subplots(figsize=(10,4))\n",
    "rects1 = plt.bar(clinic_1.year, clinic_1.deaths, width, label=\"clinic 1\", color=\"red\")\n",
    "rects2 = plt.bar(clinic_2.year, clinic_2.deaths, width, label=\"clinic 2\", color=\"green\")\n",
    "plt.title(\"Number of deaths per year\", fontsize=14)\n",
    "plt.xlabel(\"Year\", fontsize=12)\n",
    "plt.ylabel(\"number of deaths\", fontsize=12)\n",
    "plt.legend()"
   ]
  },
  {
   "cell_type": "code",
   "execution_count": 15,
   "id": "8ca2f356",
   "metadata": {},
   "outputs": [
    {
     "data": {
      "text/plain": [
       "<AxesSubplot:xlabel='year', ylabel='Proportion of Deaths'>"
      ]
     },
     "execution_count": 15,
     "metadata": {},
     "output_type": "execute_result"
    },
    {
     "data": {
      "image/png": "[encoded data removed]",
      "text/plain": [
       "<Figure size 720x288 with 1 Axes>"
      ]
     },
     "metadata": {},
     "output_type": "display_data"
    }
   ],
   "source": [
    "# plot proportion of deaths in clinic 1 and 2\n",
    "ax = clinic_1.plot(x=\"year\", y=\"proportion of deaths\", label=\"clinic 1\", color=\"red\", figsize=(10,4))\n",
    "clinic_2.plot(x=\"year\", y=\"proportion of deaths\", label=\"clinic 2\", ax=ax, ylabel= \"Proportion of Deaths\", color=\"green\")"
   ]
  },
  {
   "cell_type": "markdown",
   "id": "d7db0cb4",
   "metadata": {},
   "source": [
    "#### By looking further into why this happened, Dr. Semmelweis realized that many of the medical students who worked at Clinic 1 also spend a lot of time in the autopsy room as a part of their studies. So, he realized that dealing with corpses spread harmful bacteria that was transferred to the women giving birth, thus infecting them with the deadly childbed fever — the main reason for the high mortality rates."
   ]
  },
  {
   "cell_type": "markdown",
   "id": "39ce2182",
   "metadata": {},
   "source": [
    "### II - Monthly data"
   ]
  },
  {
   "cell_type": "code",
   "execution_count": 16,
   "id": "a49d6219",
   "metadata": {},
   "outputs": [
    {
     "data": {
      "text/html": [
       "<div>\n",
       "<style scoped>\n",
       "    .dataframe tbody tr th:only-of-type {\n",
       "        vertical-align: middle;\n",
       "    }\n",
       "\n",
       "    .dataframe tbody tr th {\n",
       "        vertical-align: top;\n",
       "    }\n",
       "\n",
       "    .dataframe thead th {\n",
       "        text-align: right;\n",
       "    }\n",
       "</style>\n",
       "<table border=\"1\" class=\"dataframe\">\n",
       "  <thead>\n",
       "    <tr style=\"text-align: right;\">\n",
       "      <th></th>\n",
       "      <th>date</th>\n",
       "      <th>births</th>\n",
       "      <th>deaths</th>\n",
       "    </tr>\n",
       "  </thead>\n",
       "  <tbody>\n",
       "    <tr>\n",
       "      <th>0</th>\n",
       "      <td>1841-01-01</td>\n",
       "      <td>254</td>\n",
       "      <td>37</td>\n",
       "    </tr>\n",
       "    <tr>\n",
       "      <th>1</th>\n",
       "      <td>1841-02-01</td>\n",
       "      <td>239</td>\n",
       "      <td>18</td>\n",
       "    </tr>\n",
       "    <tr>\n",
       "      <th>2</th>\n",
       "      <td>1841-03-01</td>\n",
       "      <td>277</td>\n",
       "      <td>12</td>\n",
       "    </tr>\n",
       "    <tr>\n",
       "      <th>3</th>\n",
       "      <td>1841-04-01</td>\n",
       "      <td>255</td>\n",
       "      <td>4</td>\n",
       "    </tr>\n",
       "    <tr>\n",
       "      <th>4</th>\n",
       "      <td>1841-05-01</td>\n",
       "      <td>255</td>\n",
       "      <td>2</td>\n",
       "    </tr>\n",
       "  </tbody>\n",
       "</table>\n",
       "</div>"
      ],
      "text/plain": [
       "         date  births  deaths\n",
       "0  1841-01-01     254      37\n",
       "1  1841-02-01     239      18\n",
       "2  1841-03-01     277      12\n",
       "3  1841-04-01     255       4\n",
       "4  1841-05-01     255       2"
      ]
     },
     "execution_count": 16,
     "metadata": {},
     "output_type": "execute_result"
    }
   ],
   "source": [
    "# read monthly dataset\n",
    "monthly_df = pd.read_csv(\"data/monthly_deaths.csv\")\n",
    "\n",
    "monthly_df.head()"
   ]
  },
  {
   "cell_type": "code",
   "execution_count": 17,
   "id": "2170c4d2",
   "metadata": {},
   "outputs": [
    {
     "data": {
      "text/html": [
       "<div>\n",
       "<style scoped>\n",
       "    .dataframe tbody tr th:only-of-type {\n",
       "        vertical-align: middle;\n",
       "    }\n",
       "\n",
       "    .dataframe tbody tr th {\n",
       "        vertical-align: top;\n",
       "    }\n",
       "\n",
       "    .dataframe thead th {\n",
       "        text-align: right;\n",
       "    }\n",
       "</style>\n",
       "<table border=\"1\" class=\"dataframe\">\n",
       "  <thead>\n",
       "    <tr style=\"text-align: right;\">\n",
       "      <th></th>\n",
       "      <th>date</th>\n",
       "      <th>births</th>\n",
       "      <th>deaths</th>\n",
       "    </tr>\n",
       "  </thead>\n",
       "  <tbody>\n",
       "    <tr>\n",
       "      <th>0</th>\n",
       "      <td>1841-01-01</td>\n",
       "      <td>254</td>\n",
       "      <td>37</td>\n",
       "    </tr>\n",
       "    <tr>\n",
       "      <th>1</th>\n",
       "      <td>1841-02-01</td>\n",
       "      <td>239</td>\n",
       "      <td>18</td>\n",
       "    </tr>\n",
       "    <tr>\n",
       "      <th>2</th>\n",
       "      <td>1841-03-01</td>\n",
       "      <td>277</td>\n",
       "      <td>12</td>\n",
       "    </tr>\n",
       "    <tr>\n",
       "      <th>3</th>\n",
       "      <td>1841-04-01</td>\n",
       "      <td>255</td>\n",
       "      <td>4</td>\n",
       "    </tr>\n",
       "    <tr>\n",
       "      <th>4</th>\n",
       "      <td>1841-05-01</td>\n",
       "      <td>255</td>\n",
       "      <td>2</td>\n",
       "    </tr>\n",
       "    <tr>\n",
       "      <th>...</th>\n",
       "      <td>...</td>\n",
       "      <td>...</td>\n",
       "      <td>...</td>\n",
       "    </tr>\n",
       "    <tr>\n",
       "      <th>93</th>\n",
       "      <td>1848-11-01</td>\n",
       "      <td>310</td>\n",
       "      <td>9</td>\n",
       "    </tr>\n",
       "    <tr>\n",
       "      <th>94</th>\n",
       "      <td>1848-12-01</td>\n",
       "      <td>373</td>\n",
       "      <td>5</td>\n",
       "    </tr>\n",
       "    <tr>\n",
       "      <th>95</th>\n",
       "      <td>1849-01-01</td>\n",
       "      <td>403</td>\n",
       "      <td>9</td>\n",
       "    </tr>\n",
       "    <tr>\n",
       "      <th>96</th>\n",
       "      <td>1849-02-01</td>\n",
       "      <td>389</td>\n",
       "      <td>12</td>\n",
       "    </tr>\n",
       "    <tr>\n",
       "      <th>97</th>\n",
       "      <td>1849-03-01</td>\n",
       "      <td>406</td>\n",
       "      <td>20</td>\n",
       "    </tr>\n",
       "  </tbody>\n",
       "</table>\n",
       "<p>98 rows × 3 columns</p>\n",
       "</div>"
      ],
      "text/plain": [
       "          date  births  deaths\n",
       "0   1841-01-01     254      37\n",
       "1   1841-02-01     239      18\n",
       "2   1841-03-01     277      12\n",
       "3   1841-04-01     255       4\n",
       "4   1841-05-01     255       2\n",
       "..         ...     ...     ...\n",
       "93  1848-11-01     310       9\n",
       "94  1848-12-01     373       5\n",
       "95  1849-01-01     403       9\n",
       "96  1849-02-01     389      12\n",
       "97  1849-03-01     406      20\n",
       "\n",
       "[98 rows x 3 columns]"
      ]
     },
     "execution_count": 17,
     "metadata": {},
     "output_type": "execute_result"
    }
   ],
   "source": [
    "monthly_df"
   ]
  },
  {
   "cell_type": "code",
   "execution_count": 18,
   "id": "b1179741",
   "metadata": {},
   "outputs": [
    {
     "data": {
      "text/plain": [
       "(98, 3)"
      ]
     },
     "execution_count": 18,
     "metadata": {},
     "output_type": "execute_result"
    }
   ],
   "source": [
    "monthly_df.shape"
   ]
  },
  {
   "cell_type": "code",
   "execution_count": 19,
   "id": "ea6d6afe",
   "metadata": {},
   "outputs": [
    {
     "name": "stdout",
     "output_type": "stream",
     "text": [
      "<class 'pandas.core.frame.DataFrame'>\n",
      "RangeIndex: 98 entries, 0 to 97\n",
      "Data columns (total 3 columns):\n",
      " #   Column  Non-Null Count  Dtype \n",
      "---  ------  --------------  ----- \n",
      " 0   date    98 non-null     object\n",
      " 1   births  98 non-null     int64 \n",
      " 2   deaths  98 non-null     int64 \n",
      "dtypes: int64(2), object(1)\n",
      "memory usage: 2.4+ KB\n"
     ]
    }
   ],
   "source": [
    "monthly_df.info()"
   ]
  },
  {
   "cell_type": "code",
   "execution_count": 20,
   "id": "d87b2d46",
   "metadata": {},
   "outputs": [
    {
     "data": {
      "text/html": [
       "<div>\n",
       "<style scoped>\n",
       "    .dataframe tbody tr th:only-of-type {\n",
       "        vertical-align: middle;\n",
       "    }\n",
       "\n",
       "    .dataframe tbody tr th {\n",
       "        vertical-align: top;\n",
       "    }\n",
       "\n",
       "    .dataframe thead th {\n",
       "        text-align: right;\n",
       "    }\n",
       "</style>\n",
       "<table border=\"1\" class=\"dataframe\">\n",
       "  <thead>\n",
       "    <tr style=\"text-align: right;\">\n",
       "      <th></th>\n",
       "      <th>date</th>\n",
       "      <th>births</th>\n",
       "      <th>deaths</th>\n",
       "      <th>proportion of deaths</th>\n",
       "    </tr>\n",
       "  </thead>\n",
       "  <tbody>\n",
       "    <tr>\n",
       "      <th>0</th>\n",
       "      <td>1841-01-01</td>\n",
       "      <td>254</td>\n",
       "      <td>37</td>\n",
       "      <td>0.145669</td>\n",
       "    </tr>\n",
       "    <tr>\n",
       "      <th>1</th>\n",
       "      <td>1841-02-01</td>\n",
       "      <td>239</td>\n",
       "      <td>18</td>\n",
       "      <td>0.075314</td>\n",
       "    </tr>\n",
       "    <tr>\n",
       "      <th>2</th>\n",
       "      <td>1841-03-01</td>\n",
       "      <td>277</td>\n",
       "      <td>12</td>\n",
       "      <td>0.043321</td>\n",
       "    </tr>\n",
       "    <tr>\n",
       "      <th>3</th>\n",
       "      <td>1841-04-01</td>\n",
       "      <td>255</td>\n",
       "      <td>4</td>\n",
       "      <td>0.015686</td>\n",
       "    </tr>\n",
       "    <tr>\n",
       "      <th>4</th>\n",
       "      <td>1841-05-01</td>\n",
       "      <td>255</td>\n",
       "      <td>2</td>\n",
       "      <td>0.007843</td>\n",
       "    </tr>\n",
       "  </tbody>\n",
       "</table>\n",
       "</div>"
      ],
      "text/plain": [
       "         date  births  deaths  proportion of deaths\n",
       "0  1841-01-01     254      37              0.145669\n",
       "1  1841-02-01     239      18              0.075314\n",
       "2  1841-03-01     277      12              0.043321\n",
       "3  1841-04-01     255       4              0.015686\n",
       "4  1841-05-01     255       2              0.007843"
      ]
     },
     "execution_count": 20,
     "metadata": {},
     "output_type": "execute_result"
    }
   ],
   "source": [
    "# calculate proporation of deaths per month\n",
    "monthly_df[\"proportion of deaths\"] = monthly_df[\"deaths\"] / monthly_df[\"births\"]\n",
    "\n",
    "monthly_df.head()"
   ]
  },
  {
   "cell_type": "markdown",
   "id": "2305b576",
   "metadata": {},
   "source": [
    "#### Doctors were ordered to wash their hands in the summer of 1847 to see if that will affect the number of deaths. With monthly data, let's trace the number of deaths before and after handwashing started."
   ]
  },
  {
   "cell_type": "code",
   "execution_count": 21,
   "id": "610efbc5",
   "metadata": {},
   "outputs": [
    {
     "data": {
      "text/plain": [
       "date                    datetime64[ns]\n",
       "births                           int64\n",
       "deaths                           int64\n",
       "proportion of deaths           float64\n",
       "dtype: object"
      ]
     },
     "execution_count": 21,
     "metadata": {},
     "output_type": "execute_result"
    }
   ],
   "source": [
    "# change dtype for 'date' column from string to datetime\n",
    "monthly_df['date'] = pd.to_datetime(monthly_df['date'])\n",
    "monthly_df.dtypes"
   ]
  },
  {
   "cell_type": "code",
   "execution_count": 22,
   "id": "7795264d",
   "metadata": {},
   "outputs": [
    {
     "data": {
      "text/html": [
       "<div>\n",
       "<style scoped>\n",
       "    .dataframe tbody tr th:only-of-type {\n",
       "        vertical-align: middle;\n",
       "    }\n",
       "\n",
       "    .dataframe tbody tr th {\n",
       "        vertical-align: top;\n",
       "    }\n",
       "\n",
       "    .dataframe thead th {\n",
       "        text-align: right;\n",
       "    }\n",
       "</style>\n",
       "<table border=\"1\" class=\"dataframe\">\n",
       "  <thead>\n",
       "    <tr style=\"text-align: right;\">\n",
       "      <th></th>\n",
       "      <th>date</th>\n",
       "      <th>births</th>\n",
       "      <th>deaths</th>\n",
       "      <th>proportion of deaths</th>\n",
       "    </tr>\n",
       "  </thead>\n",
       "  <tbody>\n",
       "    <tr>\n",
       "      <th>0</th>\n",
       "      <td>1841-01-01</td>\n",
       "      <td>254</td>\n",
       "      <td>37</td>\n",
       "      <td>0.145669</td>\n",
       "    </tr>\n",
       "    <tr>\n",
       "      <th>1</th>\n",
       "      <td>1841-02-01</td>\n",
       "      <td>239</td>\n",
       "      <td>18</td>\n",
       "      <td>0.075314</td>\n",
       "    </tr>\n",
       "    <tr>\n",
       "      <th>2</th>\n",
       "      <td>1841-03-01</td>\n",
       "      <td>277</td>\n",
       "      <td>12</td>\n",
       "      <td>0.043321</td>\n",
       "    </tr>\n",
       "    <tr>\n",
       "      <th>3</th>\n",
       "      <td>1841-04-01</td>\n",
       "      <td>255</td>\n",
       "      <td>4</td>\n",
       "      <td>0.015686</td>\n",
       "    </tr>\n",
       "    <tr>\n",
       "      <th>4</th>\n",
       "      <td>1841-05-01</td>\n",
       "      <td>255</td>\n",
       "      <td>2</td>\n",
       "      <td>0.007843</td>\n",
       "    </tr>\n",
       "    <tr>\n",
       "      <th>...</th>\n",
       "      <td>...</td>\n",
       "      <td>...</td>\n",
       "      <td>...</td>\n",
       "      <td>...</td>\n",
       "    </tr>\n",
       "    <tr>\n",
       "      <th>93</th>\n",
       "      <td>1848-11-01</td>\n",
       "      <td>310</td>\n",
       "      <td>9</td>\n",
       "      <td>0.029032</td>\n",
       "    </tr>\n",
       "    <tr>\n",
       "      <th>94</th>\n",
       "      <td>1848-12-01</td>\n",
       "      <td>373</td>\n",
       "      <td>5</td>\n",
       "      <td>0.013405</td>\n",
       "    </tr>\n",
       "    <tr>\n",
       "      <th>95</th>\n",
       "      <td>1849-01-01</td>\n",
       "      <td>403</td>\n",
       "      <td>9</td>\n",
       "      <td>0.022333</td>\n",
       "    </tr>\n",
       "    <tr>\n",
       "      <th>96</th>\n",
       "      <td>1849-02-01</td>\n",
       "      <td>389</td>\n",
       "      <td>12</td>\n",
       "      <td>0.030848</td>\n",
       "    </tr>\n",
       "    <tr>\n",
       "      <th>97</th>\n",
       "      <td>1849-03-01</td>\n",
       "      <td>406</td>\n",
       "      <td>20</td>\n",
       "      <td>0.049261</td>\n",
       "    </tr>\n",
       "  </tbody>\n",
       "</table>\n",
       "<p>98 rows × 4 columns</p>\n",
       "</div>"
      ],
      "text/plain": [
       "         date  births  deaths  proportion of deaths\n",
       "0  1841-01-01     254      37              0.145669\n",
       "1  1841-02-01     239      18              0.075314\n",
       "2  1841-03-01     277      12              0.043321\n",
       "3  1841-04-01     255       4              0.015686\n",
       "4  1841-05-01     255       2              0.007843\n",
       "..        ...     ...     ...                   ...\n",
       "93 1848-11-01     310       9              0.029032\n",
       "94 1848-12-01     373       5              0.013405\n",
       "95 1849-01-01     403       9              0.022333\n",
       "96 1849-02-01     389      12              0.030848\n",
       "97 1849-03-01     406      20              0.049261\n",
       "\n",
       "[98 rows x 4 columns]"
      ]
     },
     "execution_count": 22,
     "metadata": {},
     "output_type": "execute_result"
    }
   ],
   "source": [
    "monthly_df"
   ]
  },
  {
   "cell_type": "code",
   "execution_count": 23,
   "id": "684fac16",
   "metadata": {},
   "outputs": [],
   "source": [
    "# Label the date at which handwashing started to \"start_handwashing\"\n",
    "start_handwashing = pd.to_datetime('1847-06-01')\n",
    "\n",
    "# split monthly_df into 2 parts - before and after handwashing\n",
    "before_washing = monthly_df[monthly_df[\"date\"] < start_handwashing]\n",
    "after_washing = monthly_df[monthly_df['date'] >= start_handwashing]"
   ]
  },
  {
   "cell_type": "code",
   "execution_count": 24,
   "id": "d808a82d",
   "metadata": {},
   "outputs": [
    {
     "data": {
      "text/html": [
       "<div>\n",
       "<style scoped>\n",
       "    .dataframe tbody tr th:only-of-type {\n",
       "        vertical-align: middle;\n",
       "    }\n",
       "\n",
       "    .dataframe tbody tr th {\n",
       "        vertical-align: top;\n",
       "    }\n",
       "\n",
       "    .dataframe thead th {\n",
       "        text-align: right;\n",
       "    }\n",
       "</style>\n",
       "<table border=\"1\" class=\"dataframe\">\n",
       "  <thead>\n",
       "    <tr style=\"text-align: right;\">\n",
       "      <th></th>\n",
       "      <th>date</th>\n",
       "      <th>births</th>\n",
       "      <th>deaths</th>\n",
       "      <th>proportion of deaths</th>\n",
       "    </tr>\n",
       "  </thead>\n",
       "  <tbody>\n",
       "    <tr>\n",
       "      <th>0</th>\n",
       "      <td>1841-01-01</td>\n",
       "      <td>254</td>\n",
       "      <td>37</td>\n",
       "      <td>0.145669</td>\n",
       "    </tr>\n",
       "    <tr>\n",
       "      <th>1</th>\n",
       "      <td>1841-02-01</td>\n",
       "      <td>239</td>\n",
       "      <td>18</td>\n",
       "      <td>0.075314</td>\n",
       "    </tr>\n",
       "    <tr>\n",
       "      <th>2</th>\n",
       "      <td>1841-03-01</td>\n",
       "      <td>277</td>\n",
       "      <td>12</td>\n",
       "      <td>0.043321</td>\n",
       "    </tr>\n",
       "    <tr>\n",
       "      <th>3</th>\n",
       "      <td>1841-04-01</td>\n",
       "      <td>255</td>\n",
       "      <td>4</td>\n",
       "      <td>0.015686</td>\n",
       "    </tr>\n",
       "    <tr>\n",
       "      <th>4</th>\n",
       "      <td>1841-05-01</td>\n",
       "      <td>255</td>\n",
       "      <td>2</td>\n",
       "      <td>0.007843</td>\n",
       "    </tr>\n",
       "    <tr>\n",
       "      <th>...</th>\n",
       "      <td>...</td>\n",
       "      <td>...</td>\n",
       "      <td>...</td>\n",
       "      <td>...</td>\n",
       "    </tr>\n",
       "    <tr>\n",
       "      <th>71</th>\n",
       "      <td>1847-01-01</td>\n",
       "      <td>311</td>\n",
       "      <td>10</td>\n",
       "      <td>0.032154</td>\n",
       "    </tr>\n",
       "    <tr>\n",
       "      <th>72</th>\n",
       "      <td>1847-02-01</td>\n",
       "      <td>312</td>\n",
       "      <td>6</td>\n",
       "      <td>0.019231</td>\n",
       "    </tr>\n",
       "    <tr>\n",
       "      <th>73</th>\n",
       "      <td>1847-03-01</td>\n",
       "      <td>305</td>\n",
       "      <td>11</td>\n",
       "      <td>0.036066</td>\n",
       "    </tr>\n",
       "    <tr>\n",
       "      <th>74</th>\n",
       "      <td>1847-04-01</td>\n",
       "      <td>312</td>\n",
       "      <td>57</td>\n",
       "      <td>0.182692</td>\n",
       "    </tr>\n",
       "    <tr>\n",
       "      <th>75</th>\n",
       "      <td>1847-05-01</td>\n",
       "      <td>294</td>\n",
       "      <td>36</td>\n",
       "      <td>0.122449</td>\n",
       "    </tr>\n",
       "  </tbody>\n",
       "</table>\n",
       "<p>76 rows × 4 columns</p>\n",
       "</div>"
      ],
      "text/plain": [
       "         date  births  deaths  proportion of deaths\n",
       "0  1841-01-01     254      37              0.145669\n",
       "1  1841-02-01     239      18              0.075314\n",
       "2  1841-03-01     277      12              0.043321\n",
       "3  1841-04-01     255       4              0.015686\n",
       "4  1841-05-01     255       2              0.007843\n",
       "..        ...     ...     ...                   ...\n",
       "71 1847-01-01     311      10              0.032154\n",
       "72 1847-02-01     312       6              0.019231\n",
       "73 1847-03-01     305      11              0.036066\n",
       "74 1847-04-01     312      57              0.182692\n",
       "75 1847-05-01     294      36              0.122449\n",
       "\n",
       "[76 rows x 4 columns]"
      ]
     },
     "execution_count": 24,
     "metadata": {},
     "output_type": "execute_result"
    }
   ],
   "source": [
    "before_washing"
   ]
  },
  {
   "cell_type": "code",
   "execution_count": 25,
   "id": "2c4aeef8",
   "metadata": {},
   "outputs": [
    {
     "data": {
      "text/html": [
       "<div>\n",
       "<style scoped>\n",
       "    .dataframe tbody tr th:only-of-type {\n",
       "        vertical-align: middle;\n",
       "    }\n",
       "\n",
       "    .dataframe tbody tr th {\n",
       "        vertical-align: top;\n",
       "    }\n",
       "\n",
       "    .dataframe thead th {\n",
       "        text-align: right;\n",
       "    }\n",
       "</style>\n",
       "<table border=\"1\" class=\"dataframe\">\n",
       "  <thead>\n",
       "    <tr style=\"text-align: right;\">\n",
       "      <th></th>\n",
       "      <th>date</th>\n",
       "      <th>births</th>\n",
       "      <th>deaths</th>\n",
       "      <th>proportion of deaths</th>\n",
       "    </tr>\n",
       "  </thead>\n",
       "  <tbody>\n",
       "    <tr>\n",
       "      <th>76</th>\n",
       "      <td>1847-06-01</td>\n",
       "      <td>268</td>\n",
       "      <td>6</td>\n",
       "      <td>0.022388</td>\n",
       "    </tr>\n",
       "    <tr>\n",
       "      <th>77</th>\n",
       "      <td>1847-07-01</td>\n",
       "      <td>250</td>\n",
       "      <td>3</td>\n",
       "      <td>0.012000</td>\n",
       "    </tr>\n",
       "    <tr>\n",
       "      <th>78</th>\n",
       "      <td>1847-08-01</td>\n",
       "      <td>264</td>\n",
       "      <td>5</td>\n",
       "      <td>0.018939</td>\n",
       "    </tr>\n",
       "    <tr>\n",
       "      <th>79</th>\n",
       "      <td>1847-09-01</td>\n",
       "      <td>262</td>\n",
       "      <td>12</td>\n",
       "      <td>0.045802</td>\n",
       "    </tr>\n",
       "    <tr>\n",
       "      <th>80</th>\n",
       "      <td>1847-10-01</td>\n",
       "      <td>278</td>\n",
       "      <td>11</td>\n",
       "      <td>0.039568</td>\n",
       "    </tr>\n",
       "    <tr>\n",
       "      <th>81</th>\n",
       "      <td>1847-11-01</td>\n",
       "      <td>246</td>\n",
       "      <td>11</td>\n",
       "      <td>0.044715</td>\n",
       "    </tr>\n",
       "    <tr>\n",
       "      <th>82</th>\n",
       "      <td>1847-12-01</td>\n",
       "      <td>273</td>\n",
       "      <td>8</td>\n",
       "      <td>0.029304</td>\n",
       "    </tr>\n",
       "    <tr>\n",
       "      <th>83</th>\n",
       "      <td>1848-01-01</td>\n",
       "      <td>283</td>\n",
       "      <td>10</td>\n",
       "      <td>0.035336</td>\n",
       "    </tr>\n",
       "    <tr>\n",
       "      <th>84</th>\n",
       "      <td>1848-02-01</td>\n",
       "      <td>291</td>\n",
       "      <td>2</td>\n",
       "      <td>0.006873</td>\n",
       "    </tr>\n",
       "    <tr>\n",
       "      <th>85</th>\n",
       "      <td>1848-03-01</td>\n",
       "      <td>276</td>\n",
       "      <td>0</td>\n",
       "      <td>0.000000</td>\n",
       "    </tr>\n",
       "    <tr>\n",
       "      <th>86</th>\n",
       "      <td>1848-04-01</td>\n",
       "      <td>305</td>\n",
       "      <td>2</td>\n",
       "      <td>0.006557</td>\n",
       "    </tr>\n",
       "    <tr>\n",
       "      <th>87</th>\n",
       "      <td>1848-05-01</td>\n",
       "      <td>313</td>\n",
       "      <td>3</td>\n",
       "      <td>0.009585</td>\n",
       "    </tr>\n",
       "    <tr>\n",
       "      <th>88</th>\n",
       "      <td>1848-06-01</td>\n",
       "      <td>264</td>\n",
       "      <td>3</td>\n",
       "      <td>0.011364</td>\n",
       "    </tr>\n",
       "    <tr>\n",
       "      <th>89</th>\n",
       "      <td>1848-07-01</td>\n",
       "      <td>269</td>\n",
       "      <td>1</td>\n",
       "      <td>0.003717</td>\n",
       "    </tr>\n",
       "    <tr>\n",
       "      <th>90</th>\n",
       "      <td>1848-08-01</td>\n",
       "      <td>261</td>\n",
       "      <td>0</td>\n",
       "      <td>0.000000</td>\n",
       "    </tr>\n",
       "    <tr>\n",
       "      <th>91</th>\n",
       "      <td>1848-09-01</td>\n",
       "      <td>312</td>\n",
       "      <td>3</td>\n",
       "      <td>0.009615</td>\n",
       "    </tr>\n",
       "    <tr>\n",
       "      <th>92</th>\n",
       "      <td>1848-10-01</td>\n",
       "      <td>299</td>\n",
       "      <td>7</td>\n",
       "      <td>0.023411</td>\n",
       "    </tr>\n",
       "    <tr>\n",
       "      <th>93</th>\n",
       "      <td>1848-11-01</td>\n",
       "      <td>310</td>\n",
       "      <td>9</td>\n",
       "      <td>0.029032</td>\n",
       "    </tr>\n",
       "    <tr>\n",
       "      <th>94</th>\n",
       "      <td>1848-12-01</td>\n",
       "      <td>373</td>\n",
       "      <td>5</td>\n",
       "      <td>0.013405</td>\n",
       "    </tr>\n",
       "    <tr>\n",
       "      <th>95</th>\n",
       "      <td>1849-01-01</td>\n",
       "      <td>403</td>\n",
       "      <td>9</td>\n",
       "      <td>0.022333</td>\n",
       "    </tr>\n",
       "    <tr>\n",
       "      <th>96</th>\n",
       "      <td>1849-02-01</td>\n",
       "      <td>389</td>\n",
       "      <td>12</td>\n",
       "      <td>0.030848</td>\n",
       "    </tr>\n",
       "    <tr>\n",
       "      <th>97</th>\n",
       "      <td>1849-03-01</td>\n",
       "      <td>406</td>\n",
       "      <td>20</td>\n",
       "      <td>0.049261</td>\n",
       "    </tr>\n",
       "  </tbody>\n",
       "</table>\n",
       "</div>"
      ],
      "text/plain": [
       "         date  births  deaths  proportion of deaths\n",
       "76 1847-06-01     268       6              0.022388\n",
       "77 1847-07-01     250       3              0.012000\n",
       "78 1847-08-01     264       5              0.018939\n",
       "79 1847-09-01     262      12              0.045802\n",
       "80 1847-10-01     278      11              0.039568\n",
       "81 1847-11-01     246      11              0.044715\n",
       "82 1847-12-01     273       8              0.029304\n",
       "83 1848-01-01     283      10              0.035336\n",
       "84 1848-02-01     291       2              0.006873\n",
       "85 1848-03-01     276       0              0.000000\n",
       "86 1848-04-01     305       2              0.006557\n",
       "87 1848-05-01     313       3              0.009585\n",
       "88 1848-06-01     264       3              0.011364\n",
       "89 1848-07-01     269       1              0.003717\n",
       "90 1848-08-01     261       0              0.000000\n",
       "91 1848-09-01     312       3              0.009615\n",
       "92 1848-10-01     299       7              0.023411\n",
       "93 1848-11-01     310       9              0.029032\n",
       "94 1848-12-01     373       5              0.013405\n",
       "95 1849-01-01     403       9              0.022333\n",
       "96 1849-02-01     389      12              0.030848\n",
       "97 1849-03-01     406      20              0.049261"
      ]
     },
     "execution_count": 25,
     "metadata": {},
     "output_type": "execute_result"
    }
   ],
   "source": [
    "after_washing"
   ]
  },
  {
   "cell_type": "markdown",
   "id": "1cdb7a81",
   "metadata": {},
   "source": [
    "### before handwashing"
   ]
  },
  {
   "cell_type": "code",
   "execution_count": 26,
   "id": "48e7dbd1",
   "metadata": {
    "scrolled": false
   },
   "outputs": [
    {
     "data": {
      "text/plain": [
       "Text(0, 0.5, 'Proportion of Deaths')"
      ]
     },
     "execution_count": 26,
     "metadata": {},
     "output_type": "execute_result"
    },
    {
     "data": {
      "image/png": "[encoded data removed]",
      "text/plain": [
       "<Figure size 720x288 with 1 Axes>"
      ]
     },
     "metadata": {},
     "output_type": "display_data"
    }
   ],
   "source": [
    "# plot proportion of deaths\n",
    "fig, ax = plt.subplots(figsize=(10,4))\n",
    "x = before_washing[\"date\"]\n",
    "y = before_washing[\"proportion of deaths\"]\n",
    "plt.plot(x, y, color='orange')\n",
    "plt.title(\"Before Handwashing\", fontsize=16)\n",
    "plt.xlabel(\"Date\", fontsize=14)\n",
    "plt.ylabel(\"Proportion of Deaths\", fontsize=16)"
   ]
  },
  {
   "cell_type": "markdown",
   "id": "561be905",
   "metadata": {},
   "source": [
    "### after handwashing"
   ]
  },
  {
   "cell_type": "code",
   "execution_count": 27,
   "id": "260dde2c",
   "metadata": {
    "scrolled": true
   },
   "outputs": [
    {
     "data": {
      "text/plain": [
       "Text(0, 0.5, 'Proportion of Deaths')"
      ]
     },
     "execution_count": 27,
     "metadata": {},
     "output_type": "execute_result"
    },
    {
     "data": {
      "image/png": "[encoded data removed]",
      "text/plain": [
       "<Figure size 720x288 with 1 Axes>"
      ]
     },
     "metadata": {},
     "output_type": "display_data"
    }
   ],
   "source": [
    "# plot proportion of deaths\n",
    "fig, ax = plt.subplots(figsize=(10,4))\n",
    "x = after_washing[\"date\"]\n",
    "y = after_washing[\"proportion of deaths\"]\n",
    "plt.plot(x, y, color='green')\n",
    "plt.title(\"After Handwashing\", fontsize=16)\n",
    "plt.xlabel(\"Date\", fontsize=14)\n",
    "plt.ylabel(\"Proportion of Deaths\", fontsize=16)"
   ]
  },
  {
   "cell_type": "code",
   "execution_count": 30,
   "id": "c70e5fdf",
   "metadata": {},
   "outputs": [
    {
     "data": {
      "text/plain": [
       "<AxesSubplot:xlabel='date', ylabel='Proportion deaths'>"
      ]
     },
     "execution_count": 30,
     "metadata": {},
     "output_type": "execute_result"
    },
    {
     "data": {
      "image/png": "[encoded data removed]",
      "text/plain": [
       "<Figure size 720x288 with 1 Axes>"
      ]
     },
     "metadata": {},
     "output_type": "display_data"
    }
   ],
   "source": [
    "# Combine above 2 charts to see difference clearly\n",
    "ax = before_washing.plot(x = \"date\", y = \"proportion of deaths\", label=\"Before Handwashing\", color=\"orange\", figsize=(10,4))\n",
    "after_washing.plot(x =\"date\", y=\"proportion of deaths\", label=\"After Handwashing\", ax=ax, ylabel=\"Proportion deaths\", color=\"green\")"
   ]
  },
  {
   "cell_type": "markdown",
   "id": "162bc669",
   "metadata": {},
   "source": [
    "#### Conclusion\n",
    "1. Proportion of deaths dramatically **decreased** after handwashing was made obligatory"
   ]
  },
  {
   "cell_type": "code",
   "execution_count": 31,
   "id": "ce9d224d",
   "metadata": {},
   "outputs": [],
   "source": [
    "# Let's calculate exactly how much did handwashing decreased the proportion of deaths on average\n",
    "before_proportion = before_washing[\"proportion of deaths\"]\n",
    "after_proportion = after_washing[\"proportion of deaths\"]"
   ]
  },
  {
   "cell_type": "code",
   "execution_count": 32,
   "id": "d3fff81a",
   "metadata": {},
   "outputs": [
    {
     "data": {
      "text/plain": [
       "0     0.145669\n",
       "1     0.075314\n",
       "2     0.043321\n",
       "3     0.015686\n",
       "4     0.007843\n",
       "        ...   \n",
       "71    0.032154\n",
       "72    0.019231\n",
       "73    0.036066\n",
       "74    0.182692\n",
       "75    0.122449\n",
       "Name: proportion of deaths, Length: 76, dtype: float64"
      ]
     },
     "execution_count": 32,
     "metadata": {},
     "output_type": "execute_result"
    }
   ],
   "source": [
    "before_proportion"
   ]
  },
  {
   "cell_type": "code",
   "execution_count": 33,
   "id": "3cfd0461",
   "metadata": {},
   "outputs": [
    {
     "data": {
      "text/plain": [
       "76    0.022388\n",
       "77    0.012000\n",
       "78    0.018939\n",
       "79    0.045802\n",
       "80    0.039568\n",
       "81    0.044715\n",
       "82    0.029304\n",
       "83    0.035336\n",
       "84    0.006873\n",
       "85    0.000000\n",
       "86    0.006557\n",
       "87    0.009585\n",
       "88    0.011364\n",
       "89    0.003717\n",
       "90    0.000000\n",
       "91    0.009615\n",
       "92    0.023411\n",
       "93    0.029032\n",
       "94    0.013405\n",
       "95    0.022333\n",
       "96    0.030848\n",
       "97    0.049261\n",
       "Name: proportion of deaths, dtype: float64"
      ]
     },
     "execution_count": 33,
     "metadata": {},
     "output_type": "execute_result"
    }
   ],
   "source": [
    "after_proportion"
   ]
  },
  {
   "cell_type": "code",
   "execution_count": 34,
   "id": "f9a1e5d3",
   "metadata": {},
   "outputs": [
    {
     "data": {
      "text/plain": [
       "0.10504998260908793"
      ]
     },
     "execution_count": 34,
     "metadata": {},
     "output_type": "execute_result"
    }
   ],
   "source": [
    "before_proportion.mean()"
   ]
  },
  {
   "cell_type": "code",
   "execution_count": 35,
   "id": "acea73d3",
   "metadata": {},
   "outputs": [
    {
     "data": {
      "text/plain": [
       "0.021093375097254535"
      ]
     },
     "execution_count": 35,
     "metadata": {},
     "output_type": "execute_result"
    }
   ],
   "source": [
    "after_proportion.mean()"
   ]
  },
  {
   "cell_type": "code",
   "execution_count": 36,
   "id": "b4a240dc",
   "metadata": {},
   "outputs": [
    {
     "data": {
      "text/plain": [
       "-0.0839566075118334"
      ]
     },
     "execution_count": 36,
     "metadata": {},
     "output_type": "execute_result"
    }
   ],
   "source": [
    "# Calculate the difference between both proportions\n",
    "mean_diff = after_proportion.mean() - before_proportion.mean()\n",
    "\n",
    "mean_diff"
   ]
  },
  {
   "cell_type": "markdown",
   "id": "f9221c3b",
   "metadata": {},
   "source": [
    "#### Conclusion\n",
    "1. The minus sign indicates that there is a `decrease`. So handwashing decreased the proportion of deaths from **10%** to approx. **8%**."
   ]
  }
 ],
 "metadata": {
  "kernelspec": {
   "display_name": "Python 3.9.12 ('base')",
   "language": "python",
   "name": "python3"
  },
  "language_info": {
   "codemirror_mode": {
    "name": "ipython",
    "version": 3
   },
   "file_extension": ".py",
   "mimetype": "text/x-python",
   "name": "python",
   "nbconvert_exporter": "python",
   "pygments_lexer": "ipython3",
   "version": "3.9.12"
  },
  "vscode": {
   "interpreter": {
    "hash": "eb56e8151c18a4d157030098de4c758fff800da778bfb5ec6f438c772b5e396b"
   }
  }
 },
 "nbformat": 4,
 "nbformat_minor": 5
}
