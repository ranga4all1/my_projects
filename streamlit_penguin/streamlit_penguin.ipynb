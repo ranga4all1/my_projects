{
 "cells": [
  {
   "cell_type": "markdown",
   "metadata": {},
   "source": [
    "### Streamlit visualization app - Palmer Archipelago (Antarctica) penguin data\n",
    "\n",
    "To perform visualization with streamlit we’re using a dataset of penguins. The dataset can be downloaded by using the following\n",
    "[link:](https://www.kaggle.com/parulpandey/palmer-archipelago-antarctica-penguin-data?select=penguins_size.csv)"
   ]
  },
  {
   "cell_type": "code",
   "execution_count": 1,
   "metadata": {},
   "outputs": [],
   "source": [
    "#  import required libraries\n",
    "import numpy as np\n",
    "import pandas as pd\n",
    "import matplotlib.pyplot as plt\n",
    "import seaborn as sns\n",
    "import plotly.express as px\n",
    "import streamlit as st\n",
    "from bokeh.plotting import figure\n",
    "import altair as alt"
   ]
  },
  {
   "cell_type": "code",
   "execution_count": 2,
   "metadata": {},
   "outputs": [
    {
     "name": "stdout",
     "output_type": "stream",
     "text": [
      "    species     island  culmen_length_mm  culmen_depth_mm  flipper_length_mm  \\\n",
      "0    Adelie  Torgersen              39.1             18.7              181.0   \n",
      "1    Adelie  Torgersen              39.5             17.4              186.0   \n",
      "2    Adelie  Torgersen              40.3             18.0              195.0   \n",
      "3    Adelie  Torgersen               NaN              NaN                NaN   \n",
      "4    Adelie  Torgersen              36.7             19.3              193.0   \n",
      "..      ...        ...               ...              ...                ...   \n",
      "339  Gentoo     Biscoe               NaN              NaN                NaN   \n",
      "340  Gentoo     Biscoe              46.8             14.3              215.0   \n",
      "341  Gentoo     Biscoe              50.4             15.7              222.0   \n",
      "342  Gentoo     Biscoe              45.2             14.8              212.0   \n",
      "343  Gentoo     Biscoe              49.9             16.1              213.0   \n",
      "\n",
      "     body_mass_g     sex  \n",
      "0         3750.0    MALE  \n",
      "1         3800.0  FEMALE  \n",
      "2         3250.0  FEMALE  \n",
      "3            NaN     NaN  \n",
      "4         3450.0  FEMALE  \n",
      "..           ...     ...  \n",
      "339          NaN     NaN  \n",
      "340       4850.0  FEMALE  \n",
      "341       5750.0    MALE  \n",
      "342       5200.0  FEMALE  \n",
      "343       5400.0    MALE  \n",
      "\n",
      "[344 rows x 7 columns]\n",
      "\n",
      "\n",
      "  species     island  culmen_length_mm  culmen_depth_mm  flipper_length_mm  \\\n",
      "0  Adelie  Torgersen              39.1             18.7              181.0   \n",
      "1  Adelie  Torgersen              39.5             17.4              186.0   \n",
      "2  Adelie  Torgersen              40.3             18.0              195.0   \n",
      "3  Adelie  Torgersen               NaN              NaN                NaN   \n",
      "4  Adelie  Torgersen              36.7             19.3              193.0   \n",
      "\n",
      "   body_mass_g     sex  \n",
      "0       3750.0    MALE  \n",
      "1       3800.0  FEMALE  \n",
      "2       3250.0  FEMALE  \n",
      "3          NaN     NaN  \n",
      "4       3450.0  FEMALE  \n"
     ]
    },
    {
     "name": "stderr",
     "output_type": "stream",
     "text": [
      "2022-02-15 18:39:21.427 \n",
      "  \u001b[33m\u001b[1mWarning:\u001b[0m to view this Streamlit app on a browser, run it with the following\n",
      "  command:\n",
      "\n",
      "    streamlit run /home/ranga/anaconda3/lib/python3.9/site-packages/ipykernel_launcher.py [ARGUMENTS]\n"
     ]
    }
   ],
   "source": [
    "# load the data\n",
    "df = pd.read_csv(\"penguins_size.csv\")\n",
    "print(df)\n",
    "print(\"\\n\")\n",
    "print(df.head())\n",
    "\n",
    "# st.write will help us to write the data in application and head() will show the first 5 rows of the data\n",
    "st.write(df.head())"
   ]
  },
  {
   "cell_type": "markdown",
   "metadata": {},
   "source": [
    "#### Let's start plotting the data\n",
    "\n",
    "Plot a Line chart, Bar chart, and Area chart with Streamlit.\n",
    "\n",
    "To plot the Line chart, Area chart, and Bar chart by using the Streamlit, use the following code. it will help to plot the flipper length and bill length of penguins."
   ]
  },
  {
   "cell_type": "code",
   "execution_count": 3,
   "metadata": {},
   "outputs": [
    {
     "name": "stdout",
     "output_type": "stream",
     "text": [
      "                   flipper and culmen length\n",
      "flipper_length_mm                           \n",
      "172.0                                      1\n",
      "174.0                                      1\n",
      "176.0                                      1\n",
      "178.0                                      4\n",
      "179.0                                      1\n",
      "180.0                                      5\n",
      "181.0                                      7\n",
      "182.0                                      3\n",
      "183.0                                      2\n",
      "184.0                                      7\n",
      "185.0                                      9\n",
      "186.0                                      7\n",
      "187.0                                     16\n",
      "188.0                                      6\n",
      "189.0                                      7\n",
      "190.0                                     22\n",
      "191.0                                     13\n",
      "192.0                                      7\n",
      "193.0                                     15\n",
      "194.0                                      5\n",
      "195.0                                     17\n",
      "196.0                                     10\n",
      "197.0                                     10\n",
      "198.0                                      8\n",
      "199.0                                      6\n",
      "200.0                                      4\n",
      "201.0                                      6\n",
      "202.0                                      4\n",
      "203.0                                      5\n",
      "205.0                                      3\n",
      "206.0                                      1\n",
      "207.0                                      2\n",
      "208.0                                      8\n",
      "209.0                                      5\n",
      "210.0                                     14\n",
      "211.0                                      2\n",
      "212.0                                      7\n",
      "213.0                                      6\n",
      "214.0                                      6\n",
      "215.0                                     12\n",
      "216.0                                      8\n",
      "217.0                                      6\n",
      "218.0                                      5\n",
      "219.0                                      5\n",
      "220.0                                      8\n",
      "221.0                                      5\n",
      "222.0                                      6\n",
      "223.0                                      2\n",
      "224.0                                      3\n",
      "225.0                                      4\n",
      "226.0                                      1\n",
      "228.0                                      4\n",
      "229.0                                      2\n",
      "230.0                                      7\n",
      "231.0                                      1\n"
     ]
    },
    {
     "data": {
      "text/plain": [
       "DeltaGenerator(_root_container=0, _provided_cursor=None, _parent=None, _block_type=None, _form_data=None)"
      ]
     },
     "execution_count": 3,
     "metadata": {},
     "output_type": "execute_result"
    }
   ],
   "source": [
    "st.title('Line_chart, Bar_chart, Area_chart')\n",
    "df_dbh_grouped = pd.DataFrame(df.groupby(['flipper_length_mm']).count()['culmen_length_mm'],)\n",
    "df_dbh_grouped.columns = [\"flipper and culmen length\"]\n",
    "print(df_dbh_grouped)\n",
    "\n",
    "# to draw line chart\n",
    "st.subheader('Line_chart')\n",
    "st.line_chart(df_dbh_grouped)\n",
    "\n",
    "# to draw bar chart\n",
    "st.subheader('Bar_chart')\n",
    "st.bar_chart(df_dbh_grouped)\n",
    "\n",
    "# to draw area chart\n",
    "st.subheader('Area_chart')\n",
    "st.area_chart(df_dbh_grouped)"
   ]
  },
  {
   "cell_type": "markdown",
   "metadata": {},
   "source": [
    "#### Plotting with the help of Seaborn and Matplotlib\n",
    "\n",
    "We can also use `matplotlib` and `seaborn` libraries for plotting with stramlit. The following code will help to plot a `histogram` of penguin’s **flipper length**.:"
   ]
  },
  {
   "cell_type": "code",
   "execution_count": 4,
   "metadata": {},
   "outputs": [
    {
     "name": "stderr",
     "output_type": "stream",
     "text": [
      "/home/ranga/anaconda3/lib/python3.9/site-packages/seaborn/distributions.py:2619: FutureWarning: `distplot` is a deprecated function and will be removed in a future version. Please adapt your code to use either `displot` (a figure-level function with similar flexibility) or `histplot` (an axes-level function for histograms).\n",
      "  warnings.warn(msg, FutureWarning)\n"
     ]
    },
    {
     "data": {
      "text/plain": [
       "DeltaGenerator(_root_container=0, _provided_cursor=None, _parent=None, _block_type=None, _form_data=None)"
      ]
     },
     "execution_count": 4,
     "metadata": {},
     "output_type": "execute_result"
    },
    {
     "data": {
      "image/png": "[encoded data removed]",
      "text/plain": [
       "<Figure size 432x288 with 1 Axes>"
      ]
     },
     "metadata": {
      "needs_background": "light"
     },
     "output_type": "display_data"
    },
    {
     "data": {
      "image/png": "[encoded data removed]",
      "text/plain": [
       "<Figure size 432x288 with 1 Axes>"
      ]
     },
     "metadata": {
      "needs_background": "light"
     },
     "output_type": "display_data"
    }
   ],
   "source": [
    "import streamlit as st\n",
    "import matplotlib.pyplot as plt\n",
    "import seaborn as sns\n",
    "\n",
    "st.title(\"Seaborn and Matplotlib Histograms\")\n",
    "\n",
    "# Making Seaborn chart\n",
    "st.subheader(\"Seaborn chart\")\n",
    "fig_sb, ax_sb = plt.subplots()\n",
    "ax_sb = sns.distplot(df['flipper_length_mm'], kde=False, bins=30)\n",
    "plt.xlabel('flipper_length_mm')\n",
    "plt.ylabel('count')\n",
    "st.pyplot(fig_sb)\n",
    "\n",
    "# Making matplotlib chart\n",
    "st.subheader(\"Matplotlib chart\")\n",
    "fig_mp, ax_mp = plt.subplots()\n",
    "ax_mp.hist(df['flipper_length_mm'], bins=30)\n",
    "plt.xlabel('flipper_length_mm')\n",
    "plt.ylabel('count')\n",
    "st.pyplot(fig_mp)"
   ]
  },
  {
   "cell_type": "markdown",
   "metadata": {},
   "source": [
    "#### Plotly\n",
    "\n",
    "Plotly is an open-source library that provides a list of chart types as well as tools with callbacks to make a dashboard. Let’s use Plotly to visualize our data. Import the Plotly library, and then we’ll use the following code to plot the `histogram`:"
   ]
  },
  {
   "cell_type": "code",
   "execution_count": 5,
   "metadata": {},
   "outputs": [
    {
     "data": {
      "text/plain": [
       "DeltaGenerator(_root_container=0, _provided_cursor=None, _parent=None, _block_type=None, _form_data=None)"
      ]
     },
     "execution_count": 5,
     "metadata": {},
     "output_type": "execute_result"
    }
   ],
   "source": [
    "# create plotly histogram\n",
    "\n",
    "# impport libraries\n",
    "import plotly.express as px\n",
    "\n",
    "st.title(\"Plotly Histogram - Penguins\")\n",
    "fig = px.histogram(df, x=\"body_mass_g\", nbins=30)\n",
    "st.plotly_chart(fig)"
   ]
  },
  {
   "cell_type": "markdown",
   "metadata": {},
   "source": [
    "#### Bokeh\n",
    "\n",
    "Bokeh is a Python data visualization library that generates fast interactive charts and plots. Let’s use the bokeh library to create a `scatter` plot, as shown below:"
   ]
  },
  {
   "cell_type": "code",
   "execution_count": 8,
   "metadata": {},
   "outputs": [
    {
     "data": {
      "text/plain": [
       "DeltaGenerator(_root_container=0, _provided_cursor=None, _parent=None, _block_type=None, _form_data=None)"
      ]
     },
     "execution_count": 8,
     "metadata": {},
     "output_type": "execute_result"
    }
   ],
   "source": [
    "# create bokeh plots in streamlit\n",
    "\n",
    "# import libraries\n",
    "import streamlit as st\n",
    "from bokeh.plotting import figure\n",
    "\n",
    "st.title(\"Bokeh plots - Penguins\")\n",
    "st.subheader(\"Bokeh chart\")\n",
    "scatterplot = figure(title=\"Bokeh Scatterplot\")\n",
    "scatterplot.scatter(df['culmen_length_mm'], df['culmen_depth_mm'])\n",
    "scatterplot.xaxis.axis_label = 'culmen_depth_mm'\n",
    "scatterplot.yaxis.axis_label = 'culmen_length_mm'\n",
    "st.bokeh_chart(scatterplot)"
   ]
  },
  {
   "cell_type": "markdown",
   "metadata": {},
   "source": [
    "#### ALtair\n",
    "\n",
    "Altair is a Vega-Lite Python interface that allows you to specify Vega-Lite charts in Python. Using the Altair library, the following code will assist you in creating a bar chart:"
   ]
  },
  {
   "cell_type": "code",
   "execution_count": 9,
   "metadata": {},
   "outputs": [
    {
     "data": {
      "text/plain": [
       "DeltaGenerator(_root_container=0, _provided_cursor=None, _parent=None, _block_type=None, _form_data=None)"
      ]
     },
     "execution_count": 9,
     "metadata": {},
     "output_type": "execute_result"
    }
   ],
   "source": [
    "#  create altair bar chart\n",
    "\n",
    "# import altair library\n",
    "import altair as alt\n",
    "import streamlit as st\n",
    "\n",
    "st.title(\"Altair Bar Chart - Penguins\")\n",
    "st.subheader(\"Altair Bar Chart\")\n",
    "fig = alt.Chart(df).mark_bar().encode(x = 'species', y = 'body_mass_g').properties(width=600, height=400)\n",
    "\n",
    "st.altair_chart(fig)"
   ]
  },
  {
   "cell_type": "markdown",
   "metadata": {},
   "source": [
    "### scatterplot with widgets using Streamlit\n",
    "\n",
    "Let’s plot an interesting scatter plotting by choosing the different categories from the penguin's dataset.\n",
    "The following code will help to make a scatter plot by selecting several species of penguins and picking categories for the x-axis and y-axis from culmen length, culmen depth, flipper length, and body mass."
   ]
  },
  {
   "cell_type": "code",
   "execution_count": 11,
   "metadata": {},
   "outputs": [
    {
     "data": {
      "text/plain": [
       "DeltaGenerator(_root_container=0, _provided_cursor=None, _parent=None, _block_type=None, _form_data=None)"
      ]
     },
     "execution_count": 11,
     "metadata": {},
     "output_type": "execute_result"
    },
    {
     "data": {
      "image/png": "[encoded data removed]",
      "text/plain": [
       "<Figure size 432x288 with 1 Axes>"
      ]
     },
     "metadata": {
      "needs_background": "light"
     },
     "output_type": "display_data"
    }
   ],
   "source": [
    "# scatterplot with widgets using Streamlit\n",
    "\n",
    "st.subheader('Scatter plotting with selection of category')\n",
    "\n",
    "# select box is a Displayed widget that allows the user to select a value from a list of options.\n",
    "select_species = st.selectbox('Select species', df['species'].unique())\n",
    "selected_x_variable = st.selectbox('Select x-axis variable', df.columns[2:6])\n",
    "selected_y_variable = st.selectbox('Select y-axis variable', df.columns[2:6])\n",
    "\n",
    "p_df = df[df['species'] == select_species]\n",
    "fig, ax = plt.subplots()\n",
    "ax = plt.scatter(x = p_df[selected_x_variable], y = p_df[selected_y_variable])\n",
    "plt.xlabel(selected_x_variable)\n",
    "plt.ylabel(selected_y_variable)\n",
    "st.pyplot(fig)"
   ]
  },
  {
   "cell_type": "code",
   "execution_count": null,
   "metadata": {},
   "outputs": [],
   "source": []
  }
 ],
 "metadata": {
  "interpreter": {
   "hash": "eb56e8151c18a4d157030098de4c758fff800da778bfb5ec6f438c772b5e396b"
  },
  "kernelspec": {
   "display_name": "Python 3.9.7 ('base')",
   "language": "python",
   "name": "python3"
  },
  "language_info": {
   "codemirror_mode": {
    "name": "ipython",
    "version": 3
   },
   "file_extension": ".py",
   "mimetype": "text/x-python",
   "name": "python",
   "nbconvert_exporter": "python",
   "pygments_lexer": "ipython3",
   "version": "3.9.7"
  },
  "orig_nbformat": 4
 },
 "nbformat": 4,
 "nbformat_minor": 2
}
