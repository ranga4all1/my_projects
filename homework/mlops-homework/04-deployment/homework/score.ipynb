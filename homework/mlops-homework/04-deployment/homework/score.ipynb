{
 "cells": [
  {
   "cell_type": "code",
   "execution_count": 1,
   "id": "0ef880a0",
   "metadata": {},
   "outputs": [],
   "source": [
    "# import libraries\n",
    "import pickle\n",
    "import pandas as pd"
   ]
  },
  {
   "cell_type": "code",
   "execution_count": 2,
   "id": "7855a09a",
   "metadata": {},
   "outputs": [],
   "source": [
    "#  parameters\n",
    "year = 2022\n",
    "month = 2\n",
    "taxi_type = 'yellow'\n",
    "\n",
    "input_file = f\"https://d37ci6vzurychx.cloudfront.net/trip-data/{taxi_type}_tripdata_{year:04d}-{month:02d}.parquet\"\n",
    "output_file = f\"output/{taxi_type}/{year:04d}-{month:02d}.parquet\""
   ]
  },
  {
   "cell_type": "code",
   "execution_count": 3,
   "id": "7836ccfd",
   "metadata": {},
   "outputs": [],
   "source": [
    "# load pickeled model\n",
    "with open('model.bin', 'rb') as f_in:\n",
    "    dv, model = pickle.load(f_in)"
   ]
  },
  {
   "cell_type": "code",
   "execution_count": 4,
   "id": "41c08294",
   "metadata": {},
   "outputs": [],
   "source": [
    "# preprocess data\n",
    "categorical = ['PULocationID', 'DOLocationID']\n",
    "\n",
    "def read_data(filename):\n",
    "    df = pd.read_parquet(filename)\n",
    "    \n",
    "    df['duration'] = df.tpep_dropoff_datetime - df.tpep_pickup_datetime\n",
    "    df['duration'] = df.duration.dt.total_seconds() / 60\n",
    "\n",
    "    df = df[(df.duration >= 1) & (df.duration <= 60)].copy()\n",
    "\n",
    "    df[categorical] = df[categorical].fillna(-1).astype('int').astype('str')\n",
    "    \n",
    "    return df"
   ]
  },
  {
   "cell_type": "code",
   "execution_count": 5,
   "id": "4854399a",
   "metadata": {},
   "outputs": [],
   "source": [
    "# Read input file\n",
    "df = read_data(input_file)"
   ]
  },
  {
   "cell_type": "code",
   "execution_count": 6,
   "id": "669fda0a",
   "metadata": {},
   "outputs": [],
   "source": [
    "# predict\n",
    "dicts = df[categorical].to_dict(orient='records')\n",
    "X_val = dv.transform(dicts)\n",
    "y_pred = model.predict(X_val)"
   ]
  },
  {
   "cell_type": "code",
   "execution_count": 7,
   "id": "dd90ec48",
   "metadata": {},
   "outputs": [],
   "source": [
    "# save above y_pred array to pandas dataframe\n",
    "df_y_pred = pd.DataFrame(data=y_pred, columns=['predicted'])"
   ]
  },
  {
   "cell_type": "code",
   "execution_count": 8,
   "id": "15728a78",
   "metadata": {},
   "outputs": [
    {
     "name": "stdout",
     "output_type": "stream",
     "text": [
      "std dev of predicted duration: 5.281404481465351\n"
     ]
    }
   ],
   "source": [
    "# What's the standard deviation of the predicted duration for this df?\n",
    "print('std dev of predicted duration:', df_y_pred['predicted'].std())"
   ]
  },
  {
   "cell_type": "code",
   "execution_count": 9,
   "id": "7c6554b0",
   "metadata": {},
   "outputs": [
    {
     "name": "stdout",
     "output_type": "stream",
     "text": [
      "Mean of predicted duration: 12.513422116701408\n"
     ]
    }
   ],
   "source": [
    "# What's the mean of the predicted duration for this df?\n",
    "print('Mean of predicted duration:', df_y_pred['predicted'].mean())"
   ]
  },
  {
   "cell_type": "code",
   "execution_count": 10,
   "id": "4ff5c3e7",
   "metadata": {},
   "outputs": [
    {
     "data": {
      "text/html": [
       "<div>\n",
       "<style scoped>\n",
       "    .dataframe tbody tr th:only-of-type {\n",
       "        vertical-align: middle;\n",
       "    }\n",
       "\n",
       "    .dataframe tbody tr th {\n",
       "        vertical-align: top;\n",
       "    }\n",
       "\n",
       "    .dataframe thead th {\n",
       "        text-align: right;\n",
       "    }\n",
       "</style>\n",
       "<table border=\"1\" class=\"dataframe\">\n",
       "  <thead>\n",
       "    <tr style=\"text-align: right;\">\n",
       "      <th></th>\n",
       "      <th>predicted</th>\n",
       "    </tr>\n",
       "  </thead>\n",
       "  <tbody>\n",
       "    <tr>\n",
       "      <th>count</th>\n",
       "      <td>2.918187e+06</td>\n",
       "    </tr>\n",
       "    <tr>\n",
       "      <th>mean</th>\n",
       "      <td>1.251342e+01</td>\n",
       "    </tr>\n",
       "    <tr>\n",
       "      <th>std</th>\n",
       "      <td>5.281404e+00</td>\n",
       "    </tr>\n",
       "    <tr>\n",
       "      <th>min</th>\n",
       "      <td>-7.485578e+00</td>\n",
       "    </tr>\n",
       "    <tr>\n",
       "      <th>25%</th>\n",
       "      <td>9.945231e+00</td>\n",
       "    </tr>\n",
       "    <tr>\n",
       "      <th>50%</th>\n",
       "      <td>1.066465e+01</td>\n",
       "    </tr>\n",
       "    <tr>\n",
       "      <th>75%</th>\n",
       "      <td>1.213280e+01</td>\n",
       "    </tr>\n",
       "    <tr>\n",
       "      <th>max</th>\n",
       "      <td>8.013667e+01</td>\n",
       "    </tr>\n",
       "  </tbody>\n",
       "</table>\n",
       "</div>"
      ],
      "text/plain": [
       "          predicted\n",
       "count  2.918187e+06\n",
       "mean   1.251342e+01\n",
       "std    5.281404e+00\n",
       "min   -7.485578e+00\n",
       "25%    9.945231e+00\n",
       "50%    1.066465e+01\n",
       "75%    1.213280e+01\n",
       "max    8.013667e+01"
      ]
     },
     "execution_count": 10,
     "metadata": {},
     "output_type": "execute_result"
    }
   ],
   "source": [
    "df_y_pred.describe()"
   ]
  },
  {
   "attachments": {},
   "cell_type": "markdown",
   "id": "1289ecf8",
   "metadata": {},
   "source": [
    "###  Preparing the output"
   ]
  },
  {
   "cell_type": "code",
   "execution_count": 11,
   "id": "1e35fe0a",
   "metadata": {},
   "outputs": [],
   "source": [
    "# let's create an artificial ride_id column\n",
    "df['ride_id'] = f'{year:04d}/{month:02d}_' + df.index.astype('str')\n",
    "# create empty results df\n",
    "df_result = pd.DataFrame()\n",
    "#  add columns\n",
    "df_result['ride_id'] = df['ride_id']\n",
    "df_result['predictions'] = df_y_pred\n"
   ]
  },
  {
   "cell_type": "code",
   "execution_count": 12,
   "id": "11e1265b",
   "metadata": {},
   "outputs": [],
   "source": [
    "# create output and yellow dir, if it does not exist\n",
    "# !mkdir output\n",
    "# !mkdir output/yellow"
   ]
  },
  {
   "cell_type": "code",
   "execution_count": 13,
   "id": "cde13bf7",
   "metadata": {},
   "outputs": [],
   "source": [
    "# !ls output"
   ]
  },
  {
   "cell_type": "code",
   "execution_count": 14,
   "id": "195d74b4",
   "metadata": {},
   "outputs": [],
   "source": [
    "df_result.to_parquet(\n",
    "    output_file,\n",
    "    engine='pyarrow',\n",
    "    compression=None,\n",
    "    index=False\n",
    ")"
   ]
  },
  {
   "cell_type": "code",
   "execution_count": 15,
   "id": "1ef25077",
   "metadata": {},
   "outputs": [
    {
     "name": "stdout",
     "output_type": "stream",
     "text": [
      "total 58M\n",
      "-rw-rw-r-- 1 ranga ranga 58M Jun 26 00:43 2022-02.parquet\n"
     ]
    }
   ],
   "source": [
    "# check size of file\n",
    "!ls -lh output/yellow/"
   ]
  }
 ],
 "metadata": {
  "kernelspec": {
   "display_name": "Python 3 (ipykernel)",
   "language": "python",
   "name": "python3"
  },
  "language_info": {
   "codemirror_mode": {
    "name": "ipython",
    "version": 3
   },
   "file_extension": ".py",
   "mimetype": "text/x-python",
   "name": "python",
   "nbconvert_exporter": "python",
   "pygments_lexer": "ipython3",
   "version": "3.9.16"
  }
 },
 "nbformat": 4,
 "nbformat_minor": 5
}
