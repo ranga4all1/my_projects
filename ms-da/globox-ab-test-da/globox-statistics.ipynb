{
 "cells": [
  {
   "attachments": {},
   "cell_type": "markdown",
   "metadata": {},
   "source": [
    "# GloBox statistics"
   ]
  },
  {
   "cell_type": "code",
   "execution_count": 1,
   "metadata": {},
   "outputs": [],
   "source": [
    "# Import required libraries\n",
    "import numpy as np                             \n",
    "import pandas as pd\n",
    "\n",
    "import matplotlib.pyplot as plt\n",
    "%matplotlib inline\n",
    "import seaborn as sns\n",
    "sns.set()\n",
    "\n",
    "import scipy.stats as stats                      # statistical methods\n",
    "import statsmodels.stats.proportion as prop      # statistical methods"
   ]
  },
  {
   "cell_type": "code",
   "execution_count": 2,
   "metadata": {},
   "outputs": [],
   "source": [
    "# Read extracted data\n",
    "df = pd.read_csv('view_globox-2023-06-15_122041.csv')"
   ]
  },
  {
   "cell_type": "code",
   "execution_count": 3,
   "metadata": {},
   "outputs": [
    {
     "name": "stdout",
     "output_type": "stream",
     "text": [
      "(48943, 7)\n"
     ]
    },
    {
     "data": {
      "text/html": [
       "<div>\n",
       "<style scoped>\n",
       "    .dataframe tbody tr th:only-of-type {\n",
       "        vertical-align: middle;\n",
       "    }\n",
       "\n",
       "    .dataframe tbody tr th {\n",
       "        vertical-align: top;\n",
       "    }\n",
       "\n",
       "    .dataframe thead th {\n",
       "        text-align: right;\n",
       "    }\n",
       "</style>\n",
       "<table border=\"1\" class=\"dataframe\">\n",
       "  <thead>\n",
       "    <tr style=\"text-align: right;\">\n",
       "      <th></th>\n",
       "      <th>id</th>\n",
       "      <th>country</th>\n",
       "      <th>gender</th>\n",
       "      <th>device</th>\n",
       "      <th>group</th>\n",
       "      <th>total_spent</th>\n",
       "      <th>is_converted</th>\n",
       "    </tr>\n",
       "  </thead>\n",
       "  <tbody>\n",
       "    <tr>\n",
       "      <th>0</th>\n",
       "      <td>1000000</td>\n",
       "      <td>CAN</td>\n",
       "      <td>M</td>\n",
       "      <td>I</td>\n",
       "      <td>B</td>\n",
       "      <td>0.0</td>\n",
       "      <td>No</td>\n",
       "    </tr>\n",
       "    <tr>\n",
       "      <th>1</th>\n",
       "      <td>1000001</td>\n",
       "      <td>BRA</td>\n",
       "      <td>M</td>\n",
       "      <td>A</td>\n",
       "      <td>A</td>\n",
       "      <td>0.0</td>\n",
       "      <td>No</td>\n",
       "    </tr>\n",
       "    <tr>\n",
       "      <th>2</th>\n",
       "      <td>1000002</td>\n",
       "      <td>FRA</td>\n",
       "      <td>M</td>\n",
       "      <td>A</td>\n",
       "      <td>A</td>\n",
       "      <td>0.0</td>\n",
       "      <td>No</td>\n",
       "    </tr>\n",
       "    <tr>\n",
       "      <th>3</th>\n",
       "      <td>1000003</td>\n",
       "      <td>BRA</td>\n",
       "      <td>M</td>\n",
       "      <td>I</td>\n",
       "      <td>B</td>\n",
       "      <td>0.0</td>\n",
       "      <td>No</td>\n",
       "    </tr>\n",
       "    <tr>\n",
       "      <th>4</th>\n",
       "      <td>1000004</td>\n",
       "      <td>DEU</td>\n",
       "      <td>F</td>\n",
       "      <td>A</td>\n",
       "      <td>A</td>\n",
       "      <td>0.0</td>\n",
       "      <td>No</td>\n",
       "    </tr>\n",
       "  </tbody>\n",
       "</table>\n",
       "</div>"
      ],
      "text/plain": [
       "        id country gender device group  total_spent is_converted\n",
       "0  1000000     CAN      M      I     B          0.0           No\n",
       "1  1000001     BRA      M      A     A          0.0           No\n",
       "2  1000002     FRA      M      A     A          0.0           No\n",
       "3  1000003     BRA      M      I     B          0.0           No\n",
       "4  1000004     DEU      F      A     A          0.0           No"
      ]
     },
     "execution_count": 3,
     "metadata": {},
     "output_type": "execute_result"
    }
   ],
   "source": [
    "print(df.shape)\n",
    "df.head()"
   ]
  },
  {
   "cell_type": "code",
   "execution_count": 4,
   "metadata": {},
   "outputs": [],
   "source": [
    "df['id']=df['id'].astype(str)\n",
    "df['is_converted'] = df['is_converted'].map(\n",
    "                   {'Yes':1 ,'No':0})"
   ]
  },
  {
   "cell_type": "code",
   "execution_count": 5,
   "metadata": {},
   "outputs": [
    {
     "data": {
      "text/html": [
       "<div>\n",
       "<style scoped>\n",
       "    .dataframe tbody tr th:only-of-type {\n",
       "        vertical-align: middle;\n",
       "    }\n",
       "\n",
       "    .dataframe tbody tr th {\n",
       "        vertical-align: top;\n",
       "    }\n",
       "\n",
       "    .dataframe thead th {\n",
       "        text-align: right;\n",
       "    }\n",
       "</style>\n",
       "<table border=\"1\" class=\"dataframe\">\n",
       "  <thead>\n",
       "    <tr style=\"text-align: right;\">\n",
       "      <th></th>\n",
       "      <th>id</th>\n",
       "      <th>country</th>\n",
       "      <th>gender</th>\n",
       "      <th>device</th>\n",
       "      <th>group</th>\n",
       "      <th>total_spent</th>\n",
       "      <th>is_converted</th>\n",
       "    </tr>\n",
       "  </thead>\n",
       "  <tbody>\n",
       "    <tr>\n",
       "      <th>0</th>\n",
       "      <td>1000000</td>\n",
       "      <td>CAN</td>\n",
       "      <td>M</td>\n",
       "      <td>I</td>\n",
       "      <td>B</td>\n",
       "      <td>0.0</td>\n",
       "      <td>0</td>\n",
       "    </tr>\n",
       "    <tr>\n",
       "      <th>1</th>\n",
       "      <td>1000001</td>\n",
       "      <td>BRA</td>\n",
       "      <td>M</td>\n",
       "      <td>A</td>\n",
       "      <td>A</td>\n",
       "      <td>0.0</td>\n",
       "      <td>0</td>\n",
       "    </tr>\n",
       "    <tr>\n",
       "      <th>2</th>\n",
       "      <td>1000002</td>\n",
       "      <td>FRA</td>\n",
       "      <td>M</td>\n",
       "      <td>A</td>\n",
       "      <td>A</td>\n",
       "      <td>0.0</td>\n",
       "      <td>0</td>\n",
       "    </tr>\n",
       "    <tr>\n",
       "      <th>3</th>\n",
       "      <td>1000003</td>\n",
       "      <td>BRA</td>\n",
       "      <td>M</td>\n",
       "      <td>I</td>\n",
       "      <td>B</td>\n",
       "      <td>0.0</td>\n",
       "      <td>0</td>\n",
       "    </tr>\n",
       "    <tr>\n",
       "      <th>4</th>\n",
       "      <td>1000004</td>\n",
       "      <td>DEU</td>\n",
       "      <td>F</td>\n",
       "      <td>A</td>\n",
       "      <td>A</td>\n",
       "      <td>0.0</td>\n",
       "      <td>0</td>\n",
       "    </tr>\n",
       "  </tbody>\n",
       "</table>\n",
       "</div>"
      ],
      "text/plain": [
       "        id country gender device group  total_spent  is_converted\n",
       "0  1000000     CAN      M      I     B          0.0             0\n",
       "1  1000001     BRA      M      A     A          0.0             0\n",
       "2  1000002     FRA      M      A     A          0.0             0\n",
       "3  1000003     BRA      M      I     B          0.0             0\n",
       "4  1000004     DEU      F      A     A          0.0             0"
      ]
     },
     "execution_count": 5,
     "metadata": {},
     "output_type": "execute_result"
    }
   ],
   "source": [
    "df.head()"
   ]
  },
  {
   "cell_type": "code",
   "execution_count": 6,
   "metadata": {},
   "outputs": [
    {
     "name": "stdout",
     "output_type": "stream",
     "text": [
      "<class 'pandas.core.frame.DataFrame'>\n",
      "RangeIndex: 48943 entries, 0 to 48942\n",
      "Data columns (total 7 columns):\n",
      " #   Column        Non-Null Count  Dtype  \n",
      "---  ------        --------------  -----  \n",
      " 0   id            48943 non-null  object \n",
      " 1   country       48300 non-null  object \n",
      " 2   gender        42088 non-null  object \n",
      " 3   device        48649 non-null  object \n",
      " 4   group         48943 non-null  object \n",
      " 5   total_spent   48943 non-null  float64\n",
      " 6   is_converted  48943 non-null  int64  \n",
      "dtypes: float64(1), int64(1), object(5)\n",
      "memory usage: 2.6+ MB\n"
     ]
    }
   ],
   "source": [
    "df.info()"
   ]
  },
  {
   "cell_type": "code",
   "execution_count": 7,
   "metadata": {},
   "outputs": [
    {
     "data": {
      "text/html": [
       "<div>\n",
       "<style scoped>\n",
       "    .dataframe tbody tr th:only-of-type {\n",
       "        vertical-align: middle;\n",
       "    }\n",
       "\n",
       "    .dataframe tbody tr th {\n",
       "        vertical-align: top;\n",
       "    }\n",
       "\n",
       "    .dataframe thead th {\n",
       "        text-align: right;\n",
       "    }\n",
       "</style>\n",
       "<table border=\"1\" class=\"dataframe\">\n",
       "  <thead>\n",
       "    <tr style=\"text-align: right;\">\n",
       "      <th></th>\n",
       "      <th>count</th>\n",
       "      <th>mean</th>\n",
       "      <th>std</th>\n",
       "      <th>min</th>\n",
       "      <th>25%</th>\n",
       "      <th>50%</th>\n",
       "      <th>75%</th>\n",
       "      <th>max</th>\n",
       "    </tr>\n",
       "  </thead>\n",
       "  <tbody>\n",
       "    <tr>\n",
       "      <th>total_spent</th>\n",
       "      <td>48943.0</td>\n",
       "      <td>3.382736</td>\n",
       "      <td>25.674946</td>\n",
       "      <td>0.0</td>\n",
       "      <td>0.0</td>\n",
       "      <td>0.0</td>\n",
       "      <td>0.0</td>\n",
       "      <td>1659.4</td>\n",
       "    </tr>\n",
       "    <tr>\n",
       "      <th>is_converted</th>\n",
       "      <td>48943.0</td>\n",
       "      <td>0.042784</td>\n",
       "      <td>0.202373</td>\n",
       "      <td>0.0</td>\n",
       "      <td>0.0</td>\n",
       "      <td>0.0</td>\n",
       "      <td>0.0</td>\n",
       "      <td>1.0</td>\n",
       "    </tr>\n",
       "  </tbody>\n",
       "</table>\n",
       "</div>"
      ],
      "text/plain": [
       "                count      mean        std  min  25%  50%  75%     max\n",
       "total_spent   48943.0  3.382736  25.674946  0.0  0.0  0.0  0.0  1659.4\n",
       "is_converted  48943.0  0.042784   0.202373  0.0  0.0  0.0  0.0     1.0"
      ]
     },
     "execution_count": 7,
     "metadata": {},
     "output_type": "execute_result"
    }
   ],
   "source": [
    "# Summary stats\n",
    "df.describe().transpose()"
   ]
  },
  {
   "cell_type": "code",
   "execution_count": 8,
   "metadata": {},
   "outputs": [],
   "source": [
    "# Split DataFrame based on 'group' column\n",
    "df_group_A = df[df['group'] == 'A']\n",
    "df_group_B = df[df['group'] == 'B']"
   ]
  },
  {
   "cell_type": "code",
   "execution_count": 9,
   "metadata": {},
   "outputs": [
    {
     "name": "stdout",
     "output_type": "stream",
     "text": [
      "(24343, 7)\n"
     ]
    },
    {
     "data": {
      "text/html": [
       "<div>\n",
       "<style scoped>\n",
       "    .dataframe tbody tr th:only-of-type {\n",
       "        vertical-align: middle;\n",
       "    }\n",
       "\n",
       "    .dataframe tbody tr th {\n",
       "        vertical-align: top;\n",
       "    }\n",
       "\n",
       "    .dataframe thead th {\n",
       "        text-align: right;\n",
       "    }\n",
       "</style>\n",
       "<table border=\"1\" class=\"dataframe\">\n",
       "  <thead>\n",
       "    <tr style=\"text-align: right;\">\n",
       "      <th></th>\n",
       "      <th>id</th>\n",
       "      <th>country</th>\n",
       "      <th>gender</th>\n",
       "      <th>device</th>\n",
       "      <th>group</th>\n",
       "      <th>total_spent</th>\n",
       "      <th>is_converted</th>\n",
       "    </tr>\n",
       "  </thead>\n",
       "  <tbody>\n",
       "    <tr>\n",
       "      <th>1</th>\n",
       "      <td>1000001</td>\n",
       "      <td>BRA</td>\n",
       "      <td>M</td>\n",
       "      <td>A</td>\n",
       "      <td>A</td>\n",
       "      <td>0.0</td>\n",
       "      <td>0</td>\n",
       "    </tr>\n",
       "    <tr>\n",
       "      <th>2</th>\n",
       "      <td>1000002</td>\n",
       "      <td>FRA</td>\n",
       "      <td>M</td>\n",
       "      <td>A</td>\n",
       "      <td>A</td>\n",
       "      <td>0.0</td>\n",
       "      <td>0</td>\n",
       "    </tr>\n",
       "    <tr>\n",
       "      <th>4</th>\n",
       "      <td>1000004</td>\n",
       "      <td>DEU</td>\n",
       "      <td>F</td>\n",
       "      <td>A</td>\n",
       "      <td>A</td>\n",
       "      <td>0.0</td>\n",
       "      <td>0</td>\n",
       "    </tr>\n",
       "    <tr>\n",
       "      <th>7</th>\n",
       "      <td>1000007</td>\n",
       "      <td>BRA</td>\n",
       "      <td>F</td>\n",
       "      <td>A</td>\n",
       "      <td>A</td>\n",
       "      <td>0.0</td>\n",
       "      <td>0</td>\n",
       "    </tr>\n",
       "    <tr>\n",
       "      <th>8</th>\n",
       "      <td>1000008</td>\n",
       "      <td>BRA</td>\n",
       "      <td>F</td>\n",
       "      <td>A</td>\n",
       "      <td>A</td>\n",
       "      <td>0.0</td>\n",
       "      <td>0</td>\n",
       "    </tr>\n",
       "  </tbody>\n",
       "</table>\n",
       "</div>"
      ],
      "text/plain": [
       "        id country gender device group  total_spent  is_converted\n",
       "1  1000001     BRA      M      A     A          0.0             0\n",
       "2  1000002     FRA      M      A     A          0.0             0\n",
       "4  1000004     DEU      F      A     A          0.0             0\n",
       "7  1000007     BRA      F      A     A          0.0             0\n",
       "8  1000008     BRA      F      A     A          0.0             0"
      ]
     },
     "execution_count": 9,
     "metadata": {},
     "output_type": "execute_result"
    }
   ],
   "source": [
    "print(df_group_A.shape)\n",
    "df_group_A.head()"
   ]
  },
  {
   "cell_type": "code",
   "execution_count": 10,
   "metadata": {},
   "outputs": [
    {
     "name": "stdout",
     "output_type": "stream",
     "text": [
      "(24600, 7)\n"
     ]
    },
    {
     "data": {
      "text/html": [
       "<div>\n",
       "<style scoped>\n",
       "    .dataframe tbody tr th:only-of-type {\n",
       "        vertical-align: middle;\n",
       "    }\n",
       "\n",
       "    .dataframe tbody tr th {\n",
       "        vertical-align: top;\n",
       "    }\n",
       "\n",
       "    .dataframe thead th {\n",
       "        text-align: right;\n",
       "    }\n",
       "</style>\n",
       "<table border=\"1\" class=\"dataframe\">\n",
       "  <thead>\n",
       "    <tr style=\"text-align: right;\">\n",
       "      <th></th>\n",
       "      <th>id</th>\n",
       "      <th>country</th>\n",
       "      <th>gender</th>\n",
       "      <th>device</th>\n",
       "      <th>group</th>\n",
       "      <th>total_spent</th>\n",
       "      <th>is_converted</th>\n",
       "    </tr>\n",
       "  </thead>\n",
       "  <tbody>\n",
       "    <tr>\n",
       "      <th>0</th>\n",
       "      <td>1000000</td>\n",
       "      <td>CAN</td>\n",
       "      <td>M</td>\n",
       "      <td>I</td>\n",
       "      <td>B</td>\n",
       "      <td>0.0</td>\n",
       "      <td>0</td>\n",
       "    </tr>\n",
       "    <tr>\n",
       "      <th>3</th>\n",
       "      <td>1000003</td>\n",
       "      <td>BRA</td>\n",
       "      <td>M</td>\n",
       "      <td>I</td>\n",
       "      <td>B</td>\n",
       "      <td>0.0</td>\n",
       "      <td>0</td>\n",
       "    </tr>\n",
       "    <tr>\n",
       "      <th>5</th>\n",
       "      <td>1000005</td>\n",
       "      <td>GBR</td>\n",
       "      <td>F</td>\n",
       "      <td>A</td>\n",
       "      <td>B</td>\n",
       "      <td>0.0</td>\n",
       "      <td>0</td>\n",
       "    </tr>\n",
       "    <tr>\n",
       "      <th>6</th>\n",
       "      <td>1000006</td>\n",
       "      <td>ESP</td>\n",
       "      <td>M</td>\n",
       "      <td>A</td>\n",
       "      <td>B</td>\n",
       "      <td>0.0</td>\n",
       "      <td>0</td>\n",
       "    </tr>\n",
       "    <tr>\n",
       "      <th>10</th>\n",
       "      <td>1000010</td>\n",
       "      <td>BRA</td>\n",
       "      <td>M</td>\n",
       "      <td>I</td>\n",
       "      <td>B</td>\n",
       "      <td>0.0</td>\n",
       "      <td>0</td>\n",
       "    </tr>\n",
       "  </tbody>\n",
       "</table>\n",
       "</div>"
      ],
      "text/plain": [
       "         id country gender device group  total_spent  is_converted\n",
       "0   1000000     CAN      M      I     B          0.0             0\n",
       "3   1000003     BRA      M      I     B          0.0             0\n",
       "5   1000005     GBR      F      A     B          0.0             0\n",
       "6   1000006     ESP      M      A     B          0.0             0\n",
       "10  1000010     BRA      M      I     B          0.0             0"
      ]
     },
     "execution_count": 10,
     "metadata": {},
     "output_type": "execute_result"
    }
   ],
   "source": [
    "print(df_group_B.shape)\n",
    "df_group_B.head()"
   ]
  },
  {
   "cell_type": "code",
   "execution_count": 11,
   "metadata": {},
   "outputs": [
    {
     "data": {
      "text/html": [
       "<div>\n",
       "<style scoped>\n",
       "    .dataframe tbody tr th:only-of-type {\n",
       "        vertical-align: middle;\n",
       "    }\n",
       "\n",
       "    .dataframe tbody tr th {\n",
       "        vertical-align: top;\n",
       "    }\n",
       "\n",
       "    .dataframe thead th {\n",
       "        text-align: right;\n",
       "    }\n",
       "</style>\n",
       "<table border=\"1\" class=\"dataframe\">\n",
       "  <thead>\n",
       "    <tr style=\"text-align: right;\">\n",
       "      <th></th>\n",
       "      <th>count</th>\n",
       "      <th>mean</th>\n",
       "      <th>std</th>\n",
       "      <th>min</th>\n",
       "      <th>25%</th>\n",
       "      <th>50%</th>\n",
       "      <th>75%</th>\n",
       "      <th>max</th>\n",
       "    </tr>\n",
       "  </thead>\n",
       "  <tbody>\n",
       "    <tr>\n",
       "      <th>total_spent</th>\n",
       "      <td>24343.0</td>\n",
       "      <td>3.374518</td>\n",
       "      <td>25.936391</td>\n",
       "      <td>0.0</td>\n",
       "      <td>0.0</td>\n",
       "      <td>0.0</td>\n",
       "      <td>0.0</td>\n",
       "      <td>1659.4</td>\n",
       "    </tr>\n",
       "    <tr>\n",
       "      <th>is_converted</th>\n",
       "      <td>24343.0</td>\n",
       "      <td>0.039231</td>\n",
       "      <td>0.194148</td>\n",
       "      <td>0.0</td>\n",
       "      <td>0.0</td>\n",
       "      <td>0.0</td>\n",
       "      <td>0.0</td>\n",
       "      <td>1.0</td>\n",
       "    </tr>\n",
       "  </tbody>\n",
       "</table>\n",
       "</div>"
      ],
      "text/plain": [
       "                count      mean        std  min  25%  50%  75%     max\n",
       "total_spent   24343.0  3.374518  25.936391  0.0  0.0  0.0  0.0  1659.4\n",
       "is_converted  24343.0  0.039231   0.194148  0.0  0.0  0.0  0.0     1.0"
      ]
     },
     "execution_count": 11,
     "metadata": {},
     "output_type": "execute_result"
    }
   ],
   "source": [
    "# Summary stats\n",
    "df_group_A.describe().transpose()"
   ]
  },
  {
   "cell_type": "code",
   "execution_count": 12,
   "metadata": {},
   "outputs": [
    {
     "data": {
      "text/html": [
       "<div>\n",
       "<style scoped>\n",
       "    .dataframe tbody tr th:only-of-type {\n",
       "        vertical-align: middle;\n",
       "    }\n",
       "\n",
       "    .dataframe tbody tr th {\n",
       "        vertical-align: top;\n",
       "    }\n",
       "\n",
       "    .dataframe thead th {\n",
       "        text-align: right;\n",
       "    }\n",
       "</style>\n",
       "<table border=\"1\" class=\"dataframe\">\n",
       "  <thead>\n",
       "    <tr style=\"text-align: right;\">\n",
       "      <th></th>\n",
       "      <th>count</th>\n",
       "      <th>mean</th>\n",
       "      <th>std</th>\n",
       "      <th>min</th>\n",
       "      <th>25%</th>\n",
       "      <th>50%</th>\n",
       "      <th>75%</th>\n",
       "      <th>max</th>\n",
       "    </tr>\n",
       "  </thead>\n",
       "  <tbody>\n",
       "    <tr>\n",
       "      <th>total_spent</th>\n",
       "      <td>24600.0</td>\n",
       "      <td>3.390867</td>\n",
       "      <td>25.41411</td>\n",
       "      <td>0.0</td>\n",
       "      <td>0.0</td>\n",
       "      <td>0.0</td>\n",
       "      <td>0.0</td>\n",
       "      <td>1546.3</td>\n",
       "    </tr>\n",
       "    <tr>\n",
       "      <th>is_converted</th>\n",
       "      <td>24600.0</td>\n",
       "      <td>0.046301</td>\n",
       "      <td>0.21014</td>\n",
       "      <td>0.0</td>\n",
       "      <td>0.0</td>\n",
       "      <td>0.0</td>\n",
       "      <td>0.0</td>\n",
       "      <td>1.0</td>\n",
       "    </tr>\n",
       "  </tbody>\n",
       "</table>\n",
       "</div>"
      ],
      "text/plain": [
       "                count      mean       std  min  25%  50%  75%     max\n",
       "total_spent   24600.0  3.390867  25.41411  0.0  0.0  0.0  0.0  1546.3\n",
       "is_converted  24600.0  0.046301   0.21014  0.0  0.0  0.0  0.0     1.0"
      ]
     },
     "execution_count": 12,
     "metadata": {},
     "output_type": "execute_result"
    }
   ],
   "source": [
    "# Summary stats\n",
    "df_group_B.describe().transpose()"
   ]
  },
  {
   "cell_type": "code",
   "execution_count": 13,
   "metadata": {},
   "outputs": [
    {
     "name": "stdout",
     "output_type": "stream",
     "text": [
      "df_group_A conversion rate: 0.03923099042845993\n",
      "df_group_B conversion rate: 0.04630081300813008\n"
     ]
    }
   ],
   "source": [
    "# conversion rate\n",
    "print('df_group_A conversion rate:', df_group_A['is_converted'].mean())\n",
    "print('df_group_B conversion rate:', df_group_B['is_converted'].mean())"
   ]
  },
  {
   "cell_type": "code",
   "execution_count": 14,
   "metadata": {},
   "outputs": [
    {
     "name": "stdout",
     "output_type": "stream",
     "text": [
      "df_group_A Avg amount spent per user: 3.374518467928841\n",
      "df_group_B Avg amount spent per user: 3.390866945885783\n"
     ]
    }
   ],
   "source": [
    "# Avg amount spent per user\n",
    "print('df_group_A Avg amount spent per user:', df_group_A['total_spent'].mean())\n",
    "print('df_group_B Avg amount spent per user:', df_group_B['total_spent'].mean())"
   ]
  },
  {
   "cell_type": "code",
   "execution_count": 15,
   "metadata": {},
   "outputs": [
    {
     "name": "stdout",
     "output_type": "stream",
     "text": [
      "count_A: 24343\n",
      "count_B: 24600\n",
      "is_converted_count_A: 955\n",
      "is_converted_count_B: 1139\n"
     ]
    }
   ],
   "source": [
    "count_A = len(df_group_A['is_converted'])\n",
    "print('count_A:', count_A)\n",
    "count_B = len(df_group_B['is_converted'])\n",
    "print('count_B:', count_B)\n",
    "\n",
    "is_converted_count_A = df_group_A['is_converted'].sum()\n",
    "print('is_converted_count_A:', is_converted_count_A)\n",
    "is_converted_count_B = df_group_B['is_converted'].sum()\n",
    "print('is_converted_count_B:', is_converted_count_B)"
   ]
  },
  {
   "cell_type": "code",
   "execution_count": 16,
   "metadata": {},
   "outputs": [
    {
     "name": "stdout",
     "output_type": "stream",
     "text": [
      "Proportion 1: 0.0392\n",
      "Proportion 2: 0.0463\n",
      "Z-statistic: -3.8643\n",
      "95% Confidence Interval for the Difference in Proportions: [0.0035, 0.0107]\n",
      "P-value: 0.0001\n",
      "The difference in proportions is 'statistically significant'. REJECT the null hypothesis.\n"
     ]
    }
   ],
   "source": [
    "# hypothesis test to see whether there is a difference in the conversion rate between the two groups +  95% confidence interval for the difference in the conversion rate between the treatment and control (treatment-control)\n",
    "\n",
    "#two samples, each with their respective sizes and successes\n",
    "sample1_size = count_A\n",
    "sample1_successes = is_converted_count_A\n",
    "\n",
    "sample2_size = count_B\n",
    "sample2_successes = is_converted_count_B\n",
    "\n",
    "# Calculate the proportions for each sample\n",
    "proportion1 = sample1_successes / sample1_size\n",
    "proportion2 = sample2_successes / sample2_size\n",
    "\n",
    "# Perform the two-proportion z-test\n",
    "count = [sample1_successes, sample2_successes]\n",
    "nobs = [sample1_size, sample2_size]\n",
    "\n",
    "# Calculate the pooled proportion\n",
    "pooled_proportion = (sample1_successes + sample2_successes) / (sample1_size + sample2_size)\n",
    "\n",
    "# Calculate the standard error using the pooled proportion\n",
    "standard_error = np.sqrt(pooled_proportion * (1 - pooled_proportion) * (1 / sample1_size + 1 / sample2_size))\n",
    "\n",
    "# Calculate the test statistic\n",
    "test_stat = (proportion1 - proportion2) / standard_error\n",
    "\n",
    "# Calculate the p-value\n",
    "pval = 2 * (1 - stats.norm.cdf(np.abs(test_stat)))\n",
    "\n",
    "# Calculate the margin of error for the confidence interval\n",
    "margin_of_error = stats.norm.ppf(0.975) * standard_error\n",
    "\n",
    "# Calculate the confidence interval for the difference in proportions\n",
    "lower_bound = abs(proportion1 - proportion2) - margin_of_error\n",
    "upper_bound = abs(proportion1 - proportion2) + margin_of_error\n",
    "\n",
    "# Print the results\n",
    "print(f\"Proportion 1: {proportion1:.4f}\")\n",
    "print(f\"Proportion 2: {proportion2:.4f}\")\n",
    "print(f\"Z-statistic: {test_stat:.4f}\")\n",
    "print(f\"95% Confidence Interval for the Difference in Proportions: [{lower_bound:.4f}, {upper_bound:.4f}]\")\n",
    "print(f\"P-value: {pval:.4f}\")\n",
    "\n",
    "# Define the significance level (alpha)\n",
    "alpha = 0.05\n",
    "\n",
    "# Check if the p-value is less than the significance level\n",
    "if pval < alpha:\n",
    "    print(\"The difference in proportions is 'statistically significant'. REJECT the null hypothesis.\")\n",
    "else:\n",
    "    print(\"The difference in proportions is 'statistically insignificant'. FAIL to REJECT the null hypothesis.\")"
   ]
  },
  {
   "cell_type": "code",
   "execution_count": 20,
   "metadata": {},
   "outputs": [
    {
     "data": {
      "image/png": "[encoded data removed]",
      "text/plain": [
       "<Figure size 640x480 with 1 Axes>"
      ]
     },
     "metadata": {},
     "output_type": "display_data"
    }
   ],
   "source": [
    "# Plotting the confidence interval\n",
    "x = np.arange(lower_bound, upper_bound, 0.001)\n",
    "y = stats.norm.pdf(x, (proportion1 - proportion2), standard_error)\n",
    "\n",
    "sns.set(style='whitegrid')\n",
    "fig, ax = plt.subplots()\n",
    "\n",
    "ax.plot(x, y, label='Difference in Proportions', color='blue')\n",
    "ax.fill_between(x, y, where=(x >= lower_bound) & (x <= upper_bound), color='teal', alpha=0.5)\n",
    "\n",
    "# Highlight the null hypothesis value (zero difference)\n",
    "ax.axvline(x=0, color='black', linestyle='--', label='Null Hypothesis')\n",
    "ax.legend()\n",
    "\n",
    "# Mark the upper and lower bounds with big dots\n",
    "ax.plot(lower_bound, 'ko', markersize=5, label='Lower Bound')\n",
    "ax.plot(upper_bound, 'ko', markersize=5, label='Upper Bound')\n",
    "\n",
    "# Styling and labeling\n",
    "ax.set_xlabel('Difference in Proportions for conversion rate')\n",
    "ax.set_ylabel('Density')\n",
    "ax.set_title('Confidence Interval for the Difference in Proportions')\n",
    "\n",
    "plt.tight_layout()\n",
    "plt.show()\n"
   ]
  },
  {
   "cell_type": "code",
   "execution_count": 18,
   "metadata": {},
   "outputs": [
    {
     "name": "stdout",
     "output_type": "stream",
     "text": [
      "Mean 1: 3.3745\n",
      "Mean 2: 3.3909\n",
      "T-statistic: -0.0704\n",
      "Sample Statistic: 0.0163\n",
      "95% Confidence Interval for the Difference in Means: [-0.4387, 0.4714]\n",
      "P-value: 0.9439\n",
      "The difference in Means for the average amount spent per user is 'statistically insignificant'. FAIL to REJECT the null hypothesis.\n"
     ]
    }
   ],
   "source": [
    "#  hypothesis test to see whether there is a difference in the average amount spent per user between the two groups + 95% confidence interval for the difference in the average amount spent per user between the treatment and the control (treatment-control)\n",
    "\n",
    "# two samples, each with their respective data points\n",
    "sample1 = df_group_A['total_spent']  # Sample 1 data points\n",
    "sample2 = df_group_B['total_spent']  # Sample 2 data points\n",
    "\n",
    "# Calculate the means for each sample\n",
    "mean1 = np.mean(sample1)\n",
    "mean2 = np.mean(sample2)\n",
    "\n",
    "# Calculate the sample statistic (difference in means)\n",
    "sample_statistic = abs(mean1 - mean2)\n",
    "\n",
    "# Perform the two-sample t-test\n",
    "t_stat, pval = stats.ttest_ind(sample1, sample2, equal_var=False)\n",
    "\n",
    "# Calculate the standard deviations for each sample\n",
    "std1 = np.std(sample1, ddof=1)\n",
    "std2 = np.std(sample2, ddof=1)\n",
    "\n",
    "# Calculate the standard error for the difference in means\n",
    "n1 = len(sample1)\n",
    "n2 = len(sample2)\n",
    "std_error = np.sqrt((std1**2 / n1) + (std2**2 / n2))\n",
    "\n",
    "# Calculate the margin of error for the confidence interval\n",
    "critical_value = stats.t.ppf(0.975, df=min(n1, n2) - 1)\n",
    "margin_of_error = critical_value * std_error\n",
    "\n",
    "# Calculate the confidence interval for the difference in means\n",
    "lower_bound = sample_statistic - margin_of_error\n",
    "upper_bound = sample_statistic + margin_of_error\n",
    "\n",
    "# Print the results\n",
    "print(f\"Mean 1: {mean1:.4f}\")\n",
    "print(f\"Mean 2: {mean2:.4f}\")\n",
    "print(f\"T-statistic: {t_stat:.4f}\")\n",
    "print(f\"Sample Statistic: {sample_statistic:.4f}\")\n",
    "print(f\"95% Confidence Interval for the Difference in Means: [{lower_bound:.4f}, {upper_bound:.4f}]\")\n",
    "print(f\"P-value: {pval:.4f}\")\n",
    "\n",
    "# Define the significance level (alpha)\n",
    "alpha = 0.05\n",
    "\n",
    "# Check if the p-value is less than the significance level\n",
    "if pval < alpha:\n",
    "    print(\"The difference in Means for the average amount spent per user is 'statistically significant'. REJECT the null hypothesis.\")\n",
    "else:\n",
    "    print(\"The difference in Means for the average amount spent per user is 'statistically insignificant'. FAIL to REJECT the null hypothesis.\")\n"
   ]
  },
  {
   "cell_type": "code",
   "execution_count": 19,
   "metadata": {},
   "outputs": [
    {
     "data": {
      "image/png": "[encoded data removed]",
      "text/plain": [
       "<Figure size 640x480 with 1 Axes>"
      ]
     },
     "metadata": {},
     "output_type": "display_data"
    }
   ],
   "source": [
    "# Plotting the confidence interval\n",
    "x = np.linspace(sample_statistic - 3 * std_error, sample_statistic + 3 * std_error, 100)\n",
    "y = stats.norm.pdf(x, sample_statistic, std_error)\n",
    "\n",
    "sns.set(style='whitegrid')\n",
    "fig, ax = plt.subplots()\n",
    "\n",
    "ax.plot(x, y, label='Difference in Means')\n",
    "ax.fill_between(x, y, where=(x >= lower_bound) & (x <= upper_bound), color='teal', alpha=0.5)\n",
    "\n",
    "# Highlight the null hypothesis value (zero difference)\n",
    "ax.axvline(x=0, color='black', linestyle='--', label='Null Hypothesis')\n",
    "ax.legend()\n",
    "\n",
    "# Mark the upper and lower bounds with big dots\n",
    "ax.plot(lower_bound, stats.norm.pdf(lower_bound, sample_statistic, std_error), 'ko', markersize=5, label='Lower Bound')\n",
    "ax.plot(upper_bound, stats.norm.pdf(upper_bound, sample_statistic, std_error), 'ko', markersize=5, label='Upper Bound')\n",
    "\n",
    "# Styling and labeling\n",
    "ax.set_xlabel('Diff in Means for Avg amount spent per user')\n",
    "ax.set_ylabel('Density')\n",
    "ax.set_title('Confidence Interval for the Difference in Means')\n",
    "\n",
    "plt.tight_layout()\n",
    "plt.show()"
   ]
  },
  {
   "cell_type": "code",
   "execution_count": null,
   "metadata": {},
   "outputs": [],
   "source": []
  }
 ],
 "metadata": {
  "kernelspec": {
   "display_name": "base",
   "language": "python",
   "name": "python3"
  },
  "language_info": {
   "codemirror_mode": {
    "name": "ipython",
    "version": 3
   },
   "file_extension": ".py",
   "mimetype": "text/x-python",
   "name": "python",
   "nbconvert_exporter": "python",
   "pygments_lexer": "ipython3",
   "version": "3.10.9"
  },
  "orig_nbformat": 4
 },
 "nbformat": 4,
 "nbformat_minor": 2
}
